{
 "cells": [
  {
   "cell_type": "markdown",
   "id": "752be799-486a-4ba0-b776-4192d0214400",
   "metadata": {},
   "source": [
    "# Import the necessary packages"
   ]
  },
  {
   "cell_type": "code",
   "execution_count": 1,
   "id": "b8319f5c-acf8-4b35-a305-1ad9242c64c2",
   "metadata": {
    "execution": {
     "iopub.execute_input": "2022-03-20T21:01:52.294595Z",
     "iopub.status.busy": "2022-03-20T21:01:52.293772Z",
     "iopub.status.idle": "2022-03-20T21:02:42.306526Z",
     "shell.execute_reply": "2022-03-20T21:02:42.305729Z",
     "shell.execute_reply.started": "2022-03-20T21:01:52.294549Z"
    },
    "tags": []
   },
   "outputs": [
    {
     "data": {
      "application/vnd.jupyter.widget-view+json": {
       "model_id": "a3b0f79665604e86a2b59df7a9547d4d",
       "version_major": 2,
       "version_minor": 0
      },
      "text/plain": [
       "VBox()"
      ]
     },
     "metadata": {},
     "output_type": "display_data"
    },
    {
     "name": "stdout",
     "output_type": "stream",
     "text": [
      "Starting Spark application\n"
     ]
    },
    {
     "data": {
      "text/html": [
       "<table>\n",
       "<tr><th>ID</th><th>YARN Application ID</th><th>Kind</th><th>State</th><th>Spark UI</th><th>Driver log</th><th>Current session?</th></tr><tr><td>2</td><td>application_1647802554468_0003</td><td>pyspark</td><td>idle</td><td><a target=\"_blank\" href=\"http://ip-172-31-5-219.us-west-2.compute.internal:20888/proxy/application_1647802554468_0003/\">Link</a></td><td><a target=\"_blank\" href=\"http://ip-172-31-6-205.us-west-2.compute.internal:8042/node/containerlogs/container_1647802554468_0003_01_000001/livy\">Link</a></td><td>✔</td></tr></table>"
      ],
      "text/plain": [
       "<IPython.core.display.HTML object>"
      ]
     },
     "metadata": {},
     "output_type": "display_data"
    },
    {
     "data": {
      "application/vnd.jupyter.widget-view+json": {
       "model_id": "",
       "version_major": 2,
       "version_minor": 0
      },
      "text/plain": [
       "FloatProgress(value=0.0, bar_style='info', description='Progress:', layout=Layout(height='25px', width='50%'),…"
      ]
     },
     "metadata": {},
     "output_type": "display_data"
    },
    {
     "name": "stdout",
     "output_type": "stream",
     "text": [
      "SparkSession available as 'spark'.\n"
     ]
    },
    {
     "data": {
      "application/vnd.jupyter.widget-view+json": {
       "model_id": "",
       "version_major": 2,
       "version_minor": 0
      },
      "text/plain": [
       "FloatProgress(value=0.0, bar_style='info', description='Progress:', layout=Layout(height='25px', width='50%'),…"
      ]
     },
     "metadata": {},
     "output_type": "display_data"
    }
   ],
   "source": [
    "import configparser\n",
    "from datetime import datetime\n",
    "import os\n",
    "from pyspark.sql import SparkSession\n",
    "from pyspark.sql.functions import udf, col\n",
    "from pyspark.sql.functions import year, month, dayofmonth, hour, dayofmonth, dayofweek, weekofyear, date_format, from_unixtime\n",
    "\n",
    "from pyspark.sql.functions import row_number,lit\n",
    "from pyspark.sql.types import StructType\n",
    "from pyspark.sql.types import StructField\n",
    "from pyspark.sql.types import StringType, FloatType, IntegerType, DateType, LongType\n",
    "from pyspark.sql.window import Window\n",
    "import pyspark.sql.functions as F"
   ]
  },
  {
   "cell_type": "markdown",
   "id": "5a73937b-3586-4f66-8f5e-bf833ec7b845",
   "metadata": {},
   "source": [
    "# Spark Session\n",
    "Creating the spark session is not necessary, because it is provided by Amazon EMR."
   ]
  },
  {
   "cell_type": "code",
   "execution_count": 2,
   "id": "0a790fcd-b1ac-48f7-beb1-2311b3ff29ce",
   "metadata": {
    "execution": {
     "iopub.execute_input": "2022-03-20T21:02:42.308907Z",
     "iopub.status.busy": "2022-03-20T21:02:42.308635Z",
     "iopub.status.idle": "2022-03-20T21:02:42.805628Z",
     "shell.execute_reply": "2022-03-20T21:02:42.804607Z",
     "shell.execute_reply.started": "2022-03-20T21:02:42.308869Z"
    },
    "tags": []
   },
   "outputs": [
    {
     "data": {
      "application/vnd.jupyter.widget-view+json": {
       "model_id": "c2818f8e797f437ea85cb4e60facf5a1",
       "version_major": 2,
       "version_minor": 0
      },
      "text/plain": [
       "VBox()"
      ]
     },
     "metadata": {},
     "output_type": "display_data"
    },
    {
     "data": {
      "application/vnd.jupyter.widget-view+json": {
       "model_id": "",
       "version_major": 2,
       "version_minor": 0
      },
      "text/plain": [
       "FloatProgress(value=0.0, bar_style='info', description='Progress:', layout=Layout(height='25px', width='50%'),…"
      ]
     },
     "metadata": {},
     "output_type": "display_data"
    }
   ],
   "source": [
    "def create_spark_session():\n",
    "    spark = SparkSession \\\n",
    "        .builder \\\n",
    "        .config(\"spark.jars.packages\", \"org.apache.hadoop:hadoop-aws:2.7.0\") \\\n",
    "        .getOrCreate()\n",
    "    return spark\n",
    "\n",
    "\n",
    "#spark = create_spark_session()"
   ]
  },
  {
   "cell_type": "markdown",
   "id": "4c34327b-0bac-47f3-9a18-385ca0a73062",
   "metadata": {
    "execution": {
     "iopub.execute_input": "2022-03-19T20:54:06.118082Z",
     "iopub.status.busy": "2022-03-19T20:54:06.117802Z",
     "iopub.status.idle": "2022-03-19T20:54:06.353142Z",
     "shell.execute_reply": "2022-03-19T20:54:06.352316Z",
     "shell.execute_reply.started": "2022-03-19T20:54:06.118053Z"
    }
   },
   "source": [
    "# Process Song data"
   ]
  },
  {
   "cell_type": "markdown",
   "id": "231a5bca-5827-495d-ac4b-345008ed86f5",
   "metadata": {},
   "source": [
    "## Load song data"
   ]
  },
  {
   "cell_type": "code",
   "execution_count": 3,
   "id": "212535b1-b3ef-48c0-92cd-ab661abc9af4",
   "metadata": {
    "execution": {
     "iopub.execute_input": "2022-03-20T21:02:42.807874Z",
     "iopub.status.busy": "2022-03-20T21:02:42.807561Z",
     "iopub.status.idle": "2022-03-20T21:02:43.312929Z",
     "shell.execute_reply": "2022-03-20T21:02:43.311996Z",
     "shell.execute_reply.started": "2022-03-20T21:02:42.807835Z"
    },
    "tags": []
   },
   "outputs": [
    {
     "data": {
      "application/vnd.jupyter.widget-view+json": {
       "model_id": "971d3881bc8e452e80c943fee41267ec",
       "version_major": 2,
       "version_minor": 0
      },
      "text/plain": [
       "VBox()"
      ]
     },
     "metadata": {},
     "output_type": "display_data"
    },
    {
     "data": {
      "application/vnd.jupyter.widget-view+json": {
       "model_id": "",
       "version_major": 2,
       "version_minor": 0
      },
      "text/plain": [
       "FloatProgress(value=0.0, bar_style='info', description='Progress:', layout=Layout(height='25px', width='50%'),…"
      ]
     },
     "metadata": {},
     "output_type": "display_data"
    }
   ],
   "source": [
    "input_song_data = \"s3://udacity-dend/song_data/*/*/*/*.json\""
   ]
  },
  {
   "cell_type": "markdown",
   "id": "6c5c22f1-7ea6-4a8b-b03f-91848ba4ee1b",
   "metadata": {},
   "source": [
    "Schema to read the data from the Json files."
   ]
  },
  {
   "cell_type": "code",
   "execution_count": 4,
   "id": "df66c648-40b9-4568-8319-62585e3aef1e",
   "metadata": {
    "execution": {
     "iopub.execute_input": "2022-03-20T21:02:43.314210Z",
     "iopub.status.busy": "2022-03-20T21:02:43.314016Z",
     "iopub.status.idle": "2022-03-20T21:02:43.889669Z",
     "shell.execute_reply": "2022-03-20T21:02:43.888939Z",
     "shell.execute_reply.started": "2022-03-20T21:02:43.314186Z"
    },
    "tags": []
   },
   "outputs": [
    {
     "data": {
      "application/vnd.jupyter.widget-view+json": {
       "model_id": "bd3a43b5305c428fb135d7006d1da8e2",
       "version_major": 2,
       "version_minor": 0
      },
      "text/plain": [
       "VBox()"
      ]
     },
     "metadata": {},
     "output_type": "display_data"
    },
    {
     "data": {
      "application/vnd.jupyter.widget-view+json": {
       "model_id": "",
       "version_major": 2,
       "version_minor": 0
      },
      "text/plain": [
       "FloatProgress(value=0.0, bar_style='info', description='Progress:', layout=Layout(height='25px', width='50%'),…"
      ]
     },
     "metadata": {},
     "output_type": "display_data"
    }
   ],
   "source": [
    "song_data_schema = StructType([\n",
    "    StructField(\"artist_id\", StringType()),\n",
    "    StructField(\"artist_latitude\", FloatType()),\n",
    "    StructField(\"artist_location\", StringType()),\n",
    "    StructField(\"artist_longitude\", FloatType()),\n",
    "    StructField(\"artist_name\", StringType()),\n",
    "    StructField(\"duration\", FloatType()),\n",
    "    StructField(\"num_songs\", IntegerType()),\n",
    "    StructField(\"song_id\", StringType()),\n",
    "    StructField(\"title\", StringType()),\n",
    "    StructField(\"year\", StringType())\n",
    "])"
   ]
  },
  {
   "cell_type": "markdown",
   "id": "99ca10f9-10d7-43c3-aa61-9ef98fe56682",
   "metadata": {},
   "source": [
    "Load the data"
   ]
  },
  {
   "cell_type": "code",
   "execution_count": 5,
   "id": "2658bf4b-e584-43e5-a893-b2391083dbe1",
   "metadata": {
    "execution": {
     "iopub.execute_input": "2022-03-20T21:02:43.891968Z",
     "iopub.status.busy": "2022-03-20T21:02:43.891249Z",
     "iopub.status.idle": "2022-03-20T21:03:50.431204Z",
     "shell.execute_reply": "2022-03-20T21:03:50.430346Z",
     "shell.execute_reply.started": "2022-03-20T21:02:43.891928Z"
    },
    "tags": []
   },
   "outputs": [
    {
     "data": {
      "application/vnd.jupyter.widget-view+json": {
       "model_id": "f8ffe03e9b124d04994ef9f2d557edc9",
       "version_major": 2,
       "version_minor": 0
      },
      "text/plain": [
       "VBox()"
      ]
     },
     "metadata": {},
     "output_type": "display_data"
    },
    {
     "data": {
      "application/vnd.jupyter.widget-view+json": {
       "model_id": "",
       "version_major": 2,
       "version_minor": 0
      },
      "text/plain": [
       "FloatProgress(value=0.0, bar_style='info', description='Progress:', layout=Layout(height='25px', width='50%'),…"
      ]
     },
     "metadata": {},
     "output_type": "display_data"
    }
   ],
   "source": [
    "# read song data file\n",
    "df = spark.read.json(input_song_data,\n",
    "                     schema=song_data_schema,\n",
    "                     mode=\"PERMISSIVE\")"
   ]
  },
  {
   "cell_type": "markdown",
   "id": "7f59427b-d278-4f73-ac67-39ef8dc73224",
   "metadata": {},
   "source": [
    "Verify the schema, the amount of rows loaded and the first 10 rows of the data."
   ]
  },
  {
   "cell_type": "code",
   "execution_count": 6,
   "id": "e4288cdc-63f2-4652-b1a5-982af1ffd5c4",
   "metadata": {
    "execution": {
     "iopub.execute_input": "2022-03-20T21:03:50.433402Z",
     "iopub.status.busy": "2022-03-20T21:03:50.432990Z",
     "iopub.status.idle": "2022-03-20T21:03:50.889022Z",
     "shell.execute_reply": "2022-03-20T21:03:50.887766Z",
     "shell.execute_reply.started": "2022-03-20T21:03:50.433341Z"
    }
   },
   "outputs": [
    {
     "data": {
      "application/vnd.jupyter.widget-view+json": {
       "model_id": "f908840625be408d8eac08809f600922",
       "version_major": 2,
       "version_minor": 0
      },
      "text/plain": [
       "VBox()"
      ]
     },
     "metadata": {},
     "output_type": "display_data"
    },
    {
     "data": {
      "application/vnd.jupyter.widget-view+json": {
       "model_id": "",
       "version_major": 2,
       "version_minor": 0
      },
      "text/plain": [
       "FloatProgress(value=0.0, bar_style='info', description='Progress:', layout=Layout(height='25px', width='50%'),…"
      ]
     },
     "metadata": {},
     "output_type": "display_data"
    },
    {
     "name": "stdout",
     "output_type": "stream",
     "text": [
      "root\n",
      " |-- artist_id: string (nullable = true)\n",
      " |-- artist_latitude: float (nullable = true)\n",
      " |-- artist_location: string (nullable = true)\n",
      " |-- artist_longitude: float (nullable = true)\n",
      " |-- artist_name: string (nullable = true)\n",
      " |-- duration: float (nullable = true)\n",
      " |-- num_songs: integer (nullable = true)\n",
      " |-- song_id: string (nullable = true)\n",
      " |-- title: string (nullable = true)\n",
      " |-- year: string (nullable = true)"
     ]
    }
   ],
   "source": [
    "df.printSchema()"
   ]
  },
  {
   "cell_type": "code",
   "execution_count": 7,
   "id": "2dcf43bc-ac8c-4cbd-b539-af1083c5fd92",
   "metadata": {
    "execution": {
     "iopub.execute_input": "2022-03-20T21:03:50.891333Z",
     "iopub.status.busy": "2022-03-20T21:03:50.891143Z",
     "iopub.status.idle": "2022-03-20T21:04:59.382746Z",
     "shell.execute_reply": "2022-03-20T21:04:59.381706Z",
     "shell.execute_reply.started": "2022-03-20T21:03:50.891308Z"
    },
    "tags": []
   },
   "outputs": [
    {
     "data": {
      "application/vnd.jupyter.widget-view+json": {
       "model_id": "64dca71d61d5428a8113c16cb3b498e6",
       "version_major": 2,
       "version_minor": 0
      },
      "text/plain": [
       "VBox()"
      ]
     },
     "metadata": {},
     "output_type": "display_data"
    },
    {
     "data": {
      "application/vnd.jupyter.widget-view+json": {
       "model_id": "",
       "version_major": 2,
       "version_minor": 0
      },
      "text/plain": [
       "FloatProgress(value=0.0, bar_style='info', description='Progress:', layout=Layout(height='25px', width='50%'),…"
      ]
     },
     "metadata": {},
     "output_type": "display_data"
    },
    {
     "name": "stdout",
     "output_type": "stream",
     "text": [
      "14896"
     ]
    }
   ],
   "source": [
    "df.count()"
   ]
  },
  {
   "cell_type": "code",
   "execution_count": 8,
   "id": "d8cafa73-76bd-4093-9373-7493bcc07783",
   "metadata": {
    "execution": {
     "iopub.execute_input": "2022-03-20T21:04:59.386210Z",
     "iopub.status.busy": "2022-03-20T21:04:59.385941Z",
     "iopub.status.idle": "2022-03-20T21:05:02.317718Z",
     "shell.execute_reply": "2022-03-20T21:05:02.316506Z",
     "shell.execute_reply.started": "2022-03-20T21:04:59.386172Z"
    },
    "tags": []
   },
   "outputs": [
    {
     "data": {
      "application/vnd.jupyter.widget-view+json": {
       "model_id": "58c20fc6c4c04b89b68422297057989e",
       "version_major": 2,
       "version_minor": 0
      },
      "text/plain": [
       "VBox()"
      ]
     },
     "metadata": {},
     "output_type": "display_data"
    },
    {
     "data": {
      "application/vnd.jupyter.widget-view+json": {
       "model_id": "",
       "version_major": 2,
       "version_minor": 0
      },
      "text/plain": [
       "FloatProgress(value=0.0, bar_style='info', description='Progress:', layout=Layout(height='25px', width='50%'),…"
      ]
     },
     "metadata": {},
     "output_type": "display_data"
    },
    {
     "name": "stdout",
     "output_type": "stream",
     "text": [
      "+------------------+---------------+--------------------+----------------+--------------------+---------+---------+------------------+--------------------+----+\n",
      "|         artist_id|artist_latitude|     artist_location|artist_longitude|         artist_name| duration|num_songs|           song_id|               title|year|\n",
      "+------------------+---------------+--------------------+----------------+--------------------+---------+---------+------------------+--------------------+----+\n",
      "|AR4T2IF1187B9ADBB7|       63.96027|<a href=\"http://b...|        10.22442|          Billy Idol|233.22076|        1|SOVIYJY12AF72A4B00|The Dead Next Doo...|1983|\n",
      "|AR4T2IF1187B9ADBB7|       63.96027|<a href=\"http://b...|        10.22442|          Billy Idol|287.92117|        1|SOVYXYL12AF72A3373|Rebel Yell (1999 ...|1983|\n",
      "|ARQ846I1187B9A7083|           null|                    |            null|Yvonne S. Moriart...|196.04852|        1|SOEPTVC12A67ADD0DA|To Zucchabar [\"Gl...|   0|\n",
      "|AR4T2IF1187B9ADBB7|       63.96027|<a href=\"http://b...|        10.22442|          Billy Idol|247.53587|        1|SOLQYSZ12AB0181F97|    Mony Mony (Live)|1987|\n",
      "|AR3TZ691187FB3DBB1|           null|                    |            null|Russell Watson / ...|273.44934|        1|SOVPFJK12A6701CB16|Barcelona - (Frie...|2000|\n",
      "|AR4T2IF1187B9ADBB7|       63.96027|<a href=\"http://b...|        10.22442|          Billy Idol|237.06078|        1|SOETDBF12A81C20BC0|       Body Snatcher|2005|\n",
      "|AR4T2IF1187B9ADBB7|       63.96027|<a href=\"http://b...|        10.22442|          Billy Idol|443.14078|        1|SOIEXLS12A6D4F792F|           Shangrila|1993|\n",
      "|AR5R7791187FB3A8C3|           null|                    |            null|Alfredo Kraus/Tat...| 55.40526|        1|SOQEBML12A8C136AA4|Werther (1997 Dig...|   0|\n",
      "|ARYOIZG1187FB41E30|       34.05349|     Los Angeles, CA|      -118.24532|        Red Sparowes|483.34323|        1|SOTCIHX12A8C13DDD2|Finally_ as that ...|2006|\n",
      "|ARHOSMU1242078130D|           null|                    |            null|         All Leather| 249.5473|        1|SODUMDU12AC468A22B|We're Skrewed (Ot...|   0|\n",
      "+------------------+---------------+--------------------+----------------+--------------------+---------+---------+------------------+--------------------+----+\n",
      "only showing top 10 rows"
     ]
    }
   ],
   "source": [
    "df.show(n=10)"
   ]
  },
  {
   "cell_type": "markdown",
   "id": "30981f58-0b4a-421a-aa7c-a453f8ed4701",
   "metadata": {
    "tags": []
   },
   "source": [
    "## Create song data"
   ]
  },
  {
   "cell_type": "markdown",
   "id": "202a4efd-d2ef-4fe6-b407-34d2b6a19047",
   "metadata": {},
   "source": [
    "From the song data the information for the songs are taken."
   ]
  },
  {
   "cell_type": "code",
   "execution_count": 9,
   "id": "719de53f-e6d7-4af2-9611-27116eda1ef8",
   "metadata": {
    "execution": {
     "iopub.execute_input": "2022-03-20T21:05:02.323143Z",
     "iopub.status.busy": "2022-03-20T21:05:02.319470Z",
     "iopub.status.idle": "2022-03-20T21:05:03.296084Z",
     "shell.execute_reply": "2022-03-20T21:05:03.293791Z",
     "shell.execute_reply.started": "2022-03-20T21:05:02.323092Z"
    },
    "tags": []
   },
   "outputs": [
    {
     "data": {
      "application/vnd.jupyter.widget-view+json": {
       "model_id": "f5dbb00dd29d4c5aaf5c8e49f083ec93",
       "version_major": 2,
       "version_minor": 0
      },
      "text/plain": [
       "VBox()"
      ]
     },
     "metadata": {},
     "output_type": "display_data"
    },
    {
     "data": {
      "application/vnd.jupyter.widget-view+json": {
       "model_id": "",
       "version_major": 2,
       "version_minor": 0
      },
      "text/plain": [
       "FloatProgress(value=0.0, bar_style='info', description='Progress:', layout=Layout(height='25px', width='50%'),…"
      ]
     },
     "metadata": {},
     "output_type": "display_data"
    }
   ],
   "source": [
    "# extract columns to create songs table\n",
    "songs_table = df.select([\"song_id\",\n",
    "                         \"title\",\n",
    "                         \"artist_id\",\n",
    "                         \"year\",\n",
    "                         \"duration\"]).distinct()"
   ]
  },
  {
   "cell_type": "code",
   "execution_count": 10,
   "id": "5a08c0ff-981e-4ea3-91e1-6a9f45e95585",
   "metadata": {
    "execution": {
     "iopub.execute_input": "2022-03-20T21:05:03.298392Z",
     "iopub.status.busy": "2022-03-20T21:05:03.297488Z",
     "iopub.status.idle": "2022-03-20T21:06:00.351243Z",
     "shell.execute_reply": "2022-03-20T21:06:00.350545Z",
     "shell.execute_reply.started": "2022-03-20T21:05:03.298263Z"
    }
   },
   "outputs": [
    {
     "data": {
      "application/vnd.jupyter.widget-view+json": {
       "model_id": "b2f18eada9fc4d798575fbd952e1003a",
       "version_major": 2,
       "version_minor": 0
      },
      "text/plain": [
       "VBox()"
      ]
     },
     "metadata": {},
     "output_type": "display_data"
    },
    {
     "data": {
      "application/vnd.jupyter.widget-view+json": {
       "model_id": "",
       "version_major": 2,
       "version_minor": 0
      },
      "text/plain": [
       "FloatProgress(value=0.0, bar_style='info', description='Progress:', layout=Layout(height='25px', width='50%'),…"
      ]
     },
     "metadata": {},
     "output_type": "display_data"
    },
    {
     "name": "stdout",
     "output_type": "stream",
     "text": [
      "+------------------+--------------------+------------------+----+---------+\n",
      "|           song_id|               title|         artist_id|year| duration|\n",
      "+------------------+--------------------+------------------+----+---------+\n",
      "|SOXILZP12A6D4F75C4|Protection (Under...|ARNF13I1187FB562A5|   0|455.70566|\n",
      "|SOIBFQH12A6D4F8983|Joey (Acoustic) (...|AR56D3Y1187B9AD12A|1994|247.37914|\n",
      "|SOGRQYN12A8AE47828|Feliz Navidad (W/...|ARB2FS51187FB42679|2005|161.04443|\n",
      "|SOTDNWF12AB0186452|   Revolution Action|AR3TG3X1187FB4D577|1999|249.46893|\n",
      "|SOMTMKQ12A6D4FA3A7|This Is The Dream...|AR0687M1187FB5604E|2005|204.35545|\n",
      "+------------------+--------------------+------------------+----+---------+\n",
      "only showing top 5 rows"
     ]
    }
   ],
   "source": [
    "songs_table.show(n=5)"
   ]
  },
  {
   "cell_type": "markdown",
   "id": "2bda5828-b13d-4be7-bd99-71b881d3cab5",
   "metadata": {},
   "source": [
    "There should be only one row for each song."
   ]
  },
  {
   "cell_type": "code",
   "execution_count": 11,
   "id": "7838d589-ebc3-4cf4-bb23-290084aad2f4",
   "metadata": {
    "execution": {
     "iopub.execute_input": "2022-03-20T21:06:00.353203Z",
     "iopub.status.busy": "2022-03-20T21:06:00.352949Z",
     "iopub.status.idle": "2022-03-20T21:07:59.882650Z",
     "shell.execute_reply": "2022-03-20T21:07:59.881496Z",
     "shell.execute_reply.started": "2022-03-20T21:06:00.353167Z"
    },
    "tags": []
   },
   "outputs": [
    {
     "data": {
      "application/vnd.jupyter.widget-view+json": {
       "model_id": "bd2562bdf17549928a6886b9d859d1d8",
       "version_major": 2,
       "version_minor": 0
      },
      "text/plain": [
       "VBox()"
      ]
     },
     "metadata": {},
     "output_type": "display_data"
    },
    {
     "data": {
      "application/vnd.jupyter.widget-view+json": {
       "model_id": "",
       "version_major": 2,
       "version_minor": 0
      },
      "text/plain": [
       "FloatProgress(value=0.0, bar_style='info', description='Progress:', layout=Layout(height='25px', width='50%'),…"
      ]
     },
     "metadata": {},
     "output_type": "display_data"
    },
    {
     "name": "stdout",
     "output_type": "stream",
     "text": [
      "(14896, 14896)"
     ]
    }
   ],
   "source": [
    "songs_table.count(), songs_table.select(\"song_id\").distinct().count()"
   ]
  },
  {
   "cell_type": "markdown",
   "id": "e02b1f89-9d4c-4e61-afa3-81d46042d0a3",
   "metadata": {
    "execution": {
     "iopub.execute_input": "2022-03-19T21:09:49.596533Z",
     "iopub.status.busy": "2022-03-19T21:09:49.595826Z",
     "iopub.status.idle": "2022-03-19T21:09:49.779337Z",
     "shell.execute_reply": "2022-03-19T21:09:49.777836Z",
     "shell.execute_reply.started": "2022-03-19T21:09:49.596483Z"
    }
   },
   "source": [
    "Save data"
   ]
  },
  {
   "cell_type": "code",
   "execution_count": 12,
   "id": "abb1236d-1fff-426c-bf05-c81ef431a543",
   "metadata": {
    "execution": {
     "iopub.execute_input": "2022-03-20T21:07:59.884575Z",
     "iopub.status.busy": "2022-03-20T21:07:59.884261Z",
     "iopub.status.idle": "2022-03-20T21:12:00.208198Z",
     "shell.execute_reply": "2022-03-20T21:12:00.207388Z",
     "shell.execute_reply.started": "2022-03-20T21:07:59.884537Z"
    },
    "tags": []
   },
   "outputs": [
    {
     "data": {
      "application/vnd.jupyter.widget-view+json": {
       "model_id": "b21c2513dfe544b1926d40081768feb3",
       "version_major": 2,
       "version_minor": 0
      },
      "text/plain": [
       "VBox()"
      ]
     },
     "metadata": {},
     "output_type": "display_data"
    },
    {
     "data": {
      "application/vnd.jupyter.widget-view+json": {
       "model_id": "",
       "version_major": 2,
       "version_minor": 0
      },
      "text/plain": [
       "FloatProgress(value=0.0, bar_style='info', description='Progress:', layout=Layout(height='25px', width='50%'),…"
      ]
     },
     "metadata": {},
     "output_type": "display_data"
    }
   ],
   "source": [
    "(\n",
    "    songs_table\n",
    "    .write.format(\"parquet\")\n",
    "    .mode('overwrite')\n",
    "    .partitionBy('year', 'artist_id')\n",
    "    .save('s3://datalakepractice032022/songs')\n",
    ")"
   ]
  },
  {
   "cell_type": "markdown",
   "id": "979e1b4b-ff8b-47e5-9fee-3b5a6f3646a9",
   "metadata": {},
   "source": [
    "## Create artist data\n",
    "From the song data the information for the artist are taken."
   ]
  },
  {
   "cell_type": "markdown",
   "id": "b13c0256-dbd5-4600-9464-f31f6177f756",
   "metadata": {},
   "source": [
    "First the information is group by the artist name and then by artist id to make sure that the names and the ids are unique."
   ]
  },
  {
   "cell_type": "code",
   "execution_count": 13,
   "id": "6b0a09b4-0d6b-4c49-9154-1054808e014a",
   "metadata": {
    "execution": {
     "iopub.execute_input": "2022-03-20T21:12:00.210095Z",
     "iopub.status.busy": "2022-03-20T21:12:00.209553Z",
     "iopub.status.idle": "2022-03-20T21:12:00.697555Z",
     "shell.execute_reply": "2022-03-20T21:12:00.696626Z",
     "shell.execute_reply.started": "2022-03-20T21:12:00.210054Z"
    },
    "tags": []
   },
   "outputs": [
    {
     "data": {
      "application/vnd.jupyter.widget-view+json": {
       "model_id": "a66e73b9985940a8aeca459b00b5ff9c",
       "version_major": 2,
       "version_minor": 0
      },
      "text/plain": [
       "VBox()"
      ]
     },
     "metadata": {},
     "output_type": "display_data"
    },
    {
     "data": {
      "application/vnd.jupyter.widget-view+json": {
       "model_id": "",
       "version_major": 2,
       "version_minor": 0
      },
      "text/plain": [
       "FloatProgress(value=0.0, bar_style='info', description='Progress:', layout=Layout(height='25px', width='50%'),…"
      ]
     },
     "metadata": {},
     "output_type": "display_data"
    }
   ],
   "source": [
    "# extract columns to create songs table\n",
    "artists_table =(\n",
    "    df.select([\"artist_id\", \"artist_name\", \"artist_location\", \"artist_latitude\",\"artist_longitude\"])\n",
    "    .groupBy('artist_name')\n",
    "    .agg(F.max('artist_id'), F.max('artist_location'), F.max('artist_latitude'), F.max('artist_longitude'))\n",
    "    .withColumnRenamed(\"max(artist_id)\", \"id\")\n",
    "    .withColumnRenamed(\"artist_name\", \"name\")\n",
    "    .withColumnRenamed(\"max(artist_location)\", \"location\")\n",
    "    .withColumnRenamed(\"max(artist_latitude)\",\"lattitude\")\n",
    "    .withColumnRenamed(\"max(artist_longitude)\", \"longitude\")\n",
    ")"
   ]
  },
  {
   "cell_type": "code",
   "execution_count": 14,
   "id": "dd42fdca-6ba1-4d07-a4c8-453d97506000",
   "metadata": {
    "execution": {
     "iopub.execute_input": "2022-03-20T21:12:00.699989Z",
     "iopub.status.busy": "2022-03-20T21:12:00.699235Z",
     "iopub.status.idle": "2022-03-20T21:12:01.221971Z",
     "shell.execute_reply": "2022-03-20T21:12:01.220772Z",
     "shell.execute_reply.started": "2022-03-20T21:12:00.699949Z"
    },
    "tags": []
   },
   "outputs": [
    {
     "data": {
      "application/vnd.jupyter.widget-view+json": {
       "model_id": "27c290dbcc554b4c98cd9bf797c0bca4",
       "version_major": 2,
       "version_minor": 0
      },
      "text/plain": [
       "VBox()"
      ]
     },
     "metadata": {},
     "output_type": "display_data"
    },
    {
     "data": {
      "application/vnd.jupyter.widget-view+json": {
       "model_id": "",
       "version_major": 2,
       "version_minor": 0
      },
      "text/plain": [
       "FloatProgress(value=0.0, bar_style='info', description='Progress:', layout=Layout(height='25px', width='50%'),…"
      ]
     },
     "metadata": {},
     "output_type": "display_data"
    }
   ],
   "source": [
    "artists_table_renamed = (\n",
    "    artists_table\n",
    "    .groupBy('id')\n",
    "    .agg(F.max('name'), F.max('location'), F.max('lattitude'), F.max('longitude'))\n",
    "    .withColumnRenamed(\"max(name)\", \"name\")\n",
    "    .withColumnRenamed(\"max(location)\", \"location\")\n",
    "    .withColumnRenamed(\"max(lattitude)\",\"lattitude\")\n",
    "    .withColumnRenamed(\"max(longitude)\", \"longitude\")\n",
    ")"
   ]
  },
  {
   "cell_type": "code",
   "execution_count": 15,
   "id": "0a608d38-685e-4d1b-afbe-8a8ca1dd396b",
   "metadata": {
    "execution": {
     "iopub.execute_input": "2022-03-20T21:12:01.233151Z",
     "iopub.status.busy": "2022-03-20T21:12:01.224110Z",
     "iopub.status.idle": "2022-03-20T21:12:01.687050Z",
     "shell.execute_reply": "2022-03-20T21:12:01.686175Z",
     "shell.execute_reply.started": "2022-03-20T21:12:01.233083Z"
    },
    "tags": []
   },
   "outputs": [
    {
     "data": {
      "application/vnd.jupyter.widget-view+json": {
       "model_id": "a984ab56e14244078ac46f3d36cbb964",
       "version_major": 2,
       "version_minor": 0
      },
      "text/plain": [
       "VBox()"
      ]
     },
     "metadata": {},
     "output_type": "display_data"
    },
    {
     "data": {
      "application/vnd.jupyter.widget-view+json": {
       "model_id": "",
       "version_major": 2,
       "version_minor": 0
      },
      "text/plain": [
       "FloatProgress(value=0.0, bar_style='info', description='Progress:', layout=Layout(height='25px', width='50%'),…"
      ]
     },
     "metadata": {},
     "output_type": "display_data"
    },
    {
     "name": "stdout",
     "output_type": "stream",
     "text": [
      "root\n",
      " |-- id: string (nullable = true)\n",
      " |-- name: string (nullable = true)\n",
      " |-- location: string (nullable = true)\n",
      " |-- lattitude: float (nullable = true)\n",
      " |-- longitude: float (nullable = true)"
     ]
    }
   ],
   "source": [
    "artists_table_renamed.printSchema()"
   ]
  },
  {
   "cell_type": "markdown",
   "id": "92608e7e-bae5-4918-a090-2d7c1d087035",
   "metadata": {},
   "source": [
    "There should be only one row for each artist."
   ]
  },
  {
   "cell_type": "code",
   "execution_count": 16,
   "id": "26b0442d-2444-4ee8-b21a-330cd1400234",
   "metadata": {
    "execution": {
     "iopub.execute_input": "2022-03-20T21:12:01.689167Z",
     "iopub.status.busy": "2022-03-20T21:12:01.688871Z",
     "iopub.status.idle": "2022-03-20T21:13:00.359859Z",
     "shell.execute_reply": "2022-03-20T21:13:00.359063Z",
     "shell.execute_reply.started": "2022-03-20T21:12:01.689128Z"
    },
    "tags": []
   },
   "outputs": [
    {
     "data": {
      "application/vnd.jupyter.widget-view+json": {
       "model_id": "295b0f3c1a5f41208f76956233cc7c7e",
       "version_major": 2,
       "version_minor": 0
      },
      "text/plain": [
       "VBox()"
      ]
     },
     "metadata": {},
     "output_type": "display_data"
    },
    {
     "data": {
      "application/vnd.jupyter.widget-view+json": {
       "model_id": "",
       "version_major": 2,
       "version_minor": 0
      },
      "text/plain": [
       "FloatProgress(value=0.0, bar_style='info', description='Progress:', layout=Layout(height='25px', width='50%'),…"
      ]
     },
     "metadata": {},
     "output_type": "display_data"
    },
    {
     "name": "stdout",
     "output_type": "stream",
     "text": [
      "+------------------+-----------------+--------------------+---------+---------+\n",
      "|                id|             name|            location|lattitude|longitude|\n",
      "+------------------+-----------------+--------------------+---------+---------+\n",
      "|AR0G85S1187FB4D46D|    Hey Hey My My|                    |     null|     null|\n",
      "|AR13CXU1187B9AD30A|        The Clash|     London, England| 51.52328| -0.21346|\n",
      "|AR1X3SU11C8A415261|          Vessels|Hanover Park/Scha...| 41.99112|-88.15849|\n",
      "|AR23GZ01187B98BC19|Whatever It Takes|                    |     null|     null|\n",
      "|AR29ZZM1187B9B04C7|      John Powell|                    |     null|     null|\n",
      "+------------------+-----------------+--------------------+---------+---------+\n",
      "only showing top 5 rows"
     ]
    }
   ],
   "source": [
    "artists_table_renamed.show(n=5)"
   ]
  },
  {
   "cell_type": "code",
   "execution_count": 17,
   "id": "04a8dfb8-b35b-41b5-b393-496fa09bb6c6",
   "metadata": {
    "execution": {
     "iopub.execute_input": "2022-03-20T21:13:00.362184Z",
     "iopub.status.busy": "2022-03-20T21:13:00.361422Z",
     "iopub.status.idle": "2022-03-20T21:14:58.146393Z",
     "shell.execute_reply": "2022-03-20T21:14:58.145435Z",
     "shell.execute_reply.started": "2022-03-20T21:13:00.362146Z"
    },
    "tags": []
   },
   "outputs": [
    {
     "data": {
      "application/vnd.jupyter.widget-view+json": {
       "model_id": "fb8e81e0598d41629f0cdb75f59f2f4f",
       "version_major": 2,
       "version_minor": 0
      },
      "text/plain": [
       "VBox()"
      ]
     },
     "metadata": {},
     "output_type": "display_data"
    },
    {
     "data": {
      "application/vnd.jupyter.widget-view+json": {
       "model_id": "",
       "version_major": 2,
       "version_minor": 0
      },
      "text/plain": [
       "FloatProgress(value=0.0, bar_style='info', description='Progress:', layout=Layout(height='25px', width='50%'),…"
      ]
     },
     "metadata": {},
     "output_type": "display_data"
    },
    {
     "name": "stdout",
     "output_type": "stream",
     "text": [
      "9511 9511"
     ]
    }
   ],
   "source": [
    "print(artists_table_renamed.count(),\n",
    "      artists_table_renamed.select(\"id\").distinct().count())"
   ]
  },
  {
   "cell_type": "markdown",
   "id": "d7059da5-74e5-4f71-a438-f767ef9c61de",
   "metadata": {},
   "source": [
    "The information is saved back to S3"
   ]
  },
  {
   "cell_type": "code",
   "execution_count": 18,
   "id": "07a67c89-8ad6-4598-ae0e-1985761fc5b3",
   "metadata": {
    "execution": {
     "iopub.execute_input": "2022-03-20T21:14:58.149739Z",
     "iopub.status.busy": "2022-03-20T21:14:58.149465Z",
     "iopub.status.idle": "2022-03-20T21:16:00.955301Z",
     "shell.execute_reply": "2022-03-20T21:16:00.954504Z",
     "shell.execute_reply.started": "2022-03-20T21:14:58.149700Z"
    },
    "tags": []
   },
   "outputs": [
    {
     "data": {
      "application/vnd.jupyter.widget-view+json": {
       "model_id": "801b0b44e0c248fb978a3174c24caa2e",
       "version_major": 2,
       "version_minor": 0
      },
      "text/plain": [
       "VBox()"
      ]
     },
     "metadata": {},
     "output_type": "display_data"
    },
    {
     "data": {
      "application/vnd.jupyter.widget-view+json": {
       "model_id": "",
       "version_major": 2,
       "version_minor": 0
      },
      "text/plain": [
       "FloatProgress(value=0.0, bar_style='info', description='Progress:', layout=Layout(height='25px', width='50%'),…"
      ]
     },
     "metadata": {},
     "output_type": "display_data"
    }
   ],
   "source": [
    "(\n",
    "    artists_table_renamed\n",
    "    .write.format(\"parquet\")\n",
    "    .mode('overwrite')\n",
    "    .save('s3://datalakepractice032022/artists')\n",
    ")"
   ]
  },
  {
   "cell_type": "markdown",
   "id": "9d9a1e3a-1bbe-4611-bd96-2efacdced494",
   "metadata": {},
   "source": [
    "# Process Log data"
   ]
  },
  {
   "cell_type": "markdown",
   "id": "2a5505cd-ebdc-4f13-bb6c-062e0d5b16b4",
   "metadata": {},
   "source": [
    "## Load the data"
   ]
  },
  {
   "cell_type": "code",
   "execution_count": 19,
   "id": "4ae61df9-8d98-4468-b857-b76cf94c8ad6",
   "metadata": {
    "execution": {
     "iopub.execute_input": "2022-03-20T21:16:00.957540Z",
     "iopub.status.busy": "2022-03-20T21:16:00.957274Z",
     "iopub.status.idle": "2022-03-20T21:16:01.396797Z",
     "shell.execute_reply": "2022-03-20T21:16:01.394263Z",
     "shell.execute_reply.started": "2022-03-20T21:16:00.957503Z"
    },
    "tags": []
   },
   "outputs": [
    {
     "data": {
      "application/vnd.jupyter.widget-view+json": {
       "model_id": "96aa273cff9d4e86af9faf8d4524bba6",
       "version_major": 2,
       "version_minor": 0
      },
      "text/plain": [
       "VBox()"
      ]
     },
     "metadata": {},
     "output_type": "display_data"
    },
    {
     "data": {
      "application/vnd.jupyter.widget-view+json": {
       "model_id": "",
       "version_major": 2,
       "version_minor": 0
      },
      "text/plain": [
       "FloatProgress(value=0.0, bar_style='info', description='Progress:', layout=Layout(height='25px', width='50%'),…"
      ]
     },
     "metadata": {},
     "output_type": "display_data"
    },
    {
     "name": "stdout",
     "output_type": "stream",
     "text": [
      "'s3://udacity-dend/log_data/*/*/*.json'"
     ]
    }
   ],
   "source": [
    "input_log_data = \"s3://udacity-dend/log_data/*/*/*.json\"\n",
    "input_log_data"
   ]
  },
  {
   "cell_type": "markdown",
   "id": "6e69be71-c76e-4862-9f39-817c0183aebb",
   "metadata": {},
   "source": [
    "Schema to read the data from the Json files."
   ]
  },
  {
   "cell_type": "code",
   "execution_count": 20,
   "id": "d92cfe8d-b5c3-40c2-8899-e0dd0c0db6d8",
   "metadata": {
    "execution": {
     "iopub.execute_input": "2022-03-20T21:16:01.404273Z",
     "iopub.status.busy": "2022-03-20T21:16:01.401377Z",
     "iopub.status.idle": "2022-03-20T21:16:01.893398Z",
     "shell.execute_reply": "2022-03-20T21:16:01.892156Z",
     "shell.execute_reply.started": "2022-03-20T21:16:01.403485Z"
    },
    "tags": []
   },
   "outputs": [
    {
     "data": {
      "application/vnd.jupyter.widget-view+json": {
       "model_id": "0a3d3e32d69740e3aebca57ad025363d",
       "version_major": 2,
       "version_minor": 0
      },
      "text/plain": [
       "VBox()"
      ]
     },
     "metadata": {},
     "output_type": "display_data"
    },
    {
     "data": {
      "application/vnd.jupyter.widget-view+json": {
       "model_id": "",
       "version_major": 2,
       "version_minor": 0
      },
      "text/plain": [
       "FloatProgress(value=0.0, bar_style='info', description='Progress:', layout=Layout(height='25px', width='50%'),…"
      ]
     },
     "metadata": {},
     "output_type": "display_data"
    }
   ],
   "source": [
    "log_data_schema = StructType([\n",
    "    StructField(\"artist\", StringType()),\n",
    "    StructField(\"auth\", StringType()),\n",
    "    StructField(\"firstName\", StringType()),\n",
    "    StructField(\"gender\", StringType()),\n",
    "    StructField(\"itemInSession\", StringType()),\n",
    "    StructField(\"lastName\", StringType()),\n",
    "    StructField(\"length\", FloatType()),\n",
    "    StructField(\"level\", StringType()),\n",
    "    StructField(\"location\", StringType()),\n",
    "    StructField(\"method\", StringType()),\n",
    "    StructField(\"page\", StringType()),\n",
    "    StructField(\"registration\", StringType()),\n",
    "    StructField(\"sessionId\", IntegerType()),\n",
    "    StructField(\"song\", StringType()),\n",
    "    StructField(\"status\", IntegerType()),\n",
    "    StructField(\"ts\", LongType()),\n",
    "    StructField(\"userAgent\", StringType()),\n",
    "    StructField(\"userId\", StringType())\n",
    "])"
   ]
  },
  {
   "cell_type": "markdown",
   "id": "eb439293-e49e-43eb-bf01-53d098adfe97",
   "metadata": {},
   "source": [
    "Load the data and cast the Unix Epoch time to a timestamp column."
   ]
  },
  {
   "cell_type": "code",
   "execution_count": 21,
   "id": "d7baeef3-12f0-47ee-bfd4-65893e62060e",
   "metadata": {
    "execution": {
     "iopub.execute_input": "2022-03-20T21:16:01.897045Z",
     "iopub.status.busy": "2022-03-20T21:16:01.896083Z",
     "iopub.status.idle": "2022-03-20T21:16:03.159632Z",
     "shell.execute_reply": "2022-03-20T21:16:03.158732Z",
     "shell.execute_reply.started": "2022-03-20T21:16:01.896996Z"
    },
    "tags": []
   },
   "outputs": [
    {
     "data": {
      "application/vnd.jupyter.widget-view+json": {
       "model_id": "364cf3e371ba4cb0807219f57b0c7ef0",
       "version_major": 2,
       "version_minor": 0
      },
      "text/plain": [
       "VBox()"
      ]
     },
     "metadata": {},
     "output_type": "display_data"
    },
    {
     "data": {
      "application/vnd.jupyter.widget-view+json": {
       "model_id": "",
       "version_major": 2,
       "version_minor": 0
      },
      "text/plain": [
       "FloatProgress(value=0.0, bar_style='info', description='Progress:', layout=Layout(height='25px', width='50%'),…"
      ]
     },
     "metadata": {},
     "output_type": "display_data"
    }
   ],
   "source": [
    "# read song data file\n",
    "spark.conf.set(\"spark.sql.session.timeZone\", \"America/Los_Angeles\")\n",
    "df_log = spark.read.json(input_log_data,\n",
    "                     schema=log_data_schema,\n",
    "                     mode=\"PERMISSIVE\").withColumn('start_time',from_unixtime(col(\"ts\")/1000))"
   ]
  },
  {
   "cell_type": "markdown",
   "id": "3a0e6cb3-ab81-4ba3-b945-5f3ff6587512",
   "metadata": {},
   "source": [
    "Verify the conversion of the dates was done correctly"
   ]
  },
  {
   "cell_type": "code",
   "execution_count": 22,
   "id": "bc479939-785e-46e2-91b2-fc88aead4a3d",
   "metadata": {
    "execution": {
     "iopub.execute_input": "2022-03-20T21:16:03.162168Z",
     "iopub.status.busy": "2022-03-20T21:16:03.161899Z",
     "iopub.status.idle": "2022-03-20T21:16:03.920751Z",
     "shell.execute_reply": "2022-03-20T21:16:03.919907Z",
     "shell.execute_reply.started": "2022-03-20T21:16:03.162131Z"
    },
    "tags": []
   },
   "outputs": [
    {
     "data": {
      "application/vnd.jupyter.widget-view+json": {
       "model_id": "5f2658f585104d27acdf7e4af8f13071",
       "version_major": 2,
       "version_minor": 0
      },
      "text/plain": [
       "VBox()"
      ]
     },
     "metadata": {},
     "output_type": "display_data"
    },
    {
     "data": {
      "application/vnd.jupyter.widget-view+json": {
       "model_id": "",
       "version_major": 2,
       "version_minor": 0
      },
      "text/plain": [
       "FloatProgress(value=0.0, bar_style='info', description='Progress:', layout=Layout(height='25px', width='50%'),…"
      ]
     },
     "metadata": {},
     "output_type": "display_data"
    },
    {
     "name": "stdout",
     "output_type": "stream",
     "text": [
      "+-------------+-------------------+\n",
      "|           ts|         start_time|\n",
      "+-------------+-------------------+\n",
      "|1542241826796|2018-11-14 16:30:26|\n",
      "|1542242481796|2018-11-14 16:41:21|\n",
      "|1542242741796|2018-11-14 16:45:41|\n",
      "|1542247071796|2018-11-14 17:57:51|\n",
      "|1542252577796|2018-11-14 19:29:37|\n",
      "|1542253449796|2018-11-14 19:44:09|\n",
      "|1542253460796|2018-11-14 19:44:20|\n",
      "|1542260074796|2018-11-14 21:34:34|\n",
      "|1542260277796|2018-11-14 21:37:57|\n",
      "|1542260935796|2018-11-14 21:48:55|\n",
      "+-------------+-------------------+\n",
      "only showing top 10 rows"
     ]
    }
   ],
   "source": [
    "df_log.select(['ts', 'start_time']).show(10)"
   ]
  },
  {
   "cell_type": "markdown",
   "id": "c7953f76-5374-421c-83cc-835608770abb",
   "metadata": {},
   "source": [
    "Verify the schema, the amount of rows loaded and the first 10 rows of the data."
   ]
  },
  {
   "cell_type": "code",
   "execution_count": 23,
   "id": "9292c5fa-57c8-45a2-9387-67dcb4ddb1be",
   "metadata": {
    "execution": {
     "iopub.execute_input": "2022-03-20T21:16:03.923007Z",
     "iopub.status.busy": "2022-03-20T21:16:03.922498Z",
     "iopub.status.idle": "2022-03-20T21:16:04.486487Z",
     "shell.execute_reply": "2022-03-20T21:16:04.485391Z",
     "shell.execute_reply.started": "2022-03-20T21:16:03.922967Z"
    },
    "tags": []
   },
   "outputs": [
    {
     "data": {
      "application/vnd.jupyter.widget-view+json": {
       "model_id": "422073b187a74656a4371d8319125701",
       "version_major": 2,
       "version_minor": 0
      },
      "text/plain": [
       "VBox()"
      ]
     },
     "metadata": {},
     "output_type": "display_data"
    },
    {
     "data": {
      "application/vnd.jupyter.widget-view+json": {
       "model_id": "",
       "version_major": 2,
       "version_minor": 0
      },
      "text/plain": [
       "FloatProgress(value=0.0, bar_style='info', description='Progress:', layout=Layout(height='25px', width='50%'),…"
      ]
     },
     "metadata": {},
     "output_type": "display_data"
    },
    {
     "name": "stdout",
     "output_type": "stream",
     "text": [
      "root\n",
      " |-- artist: string (nullable = true)\n",
      " |-- auth: string (nullable = true)\n",
      " |-- firstName: string (nullable = true)\n",
      " |-- gender: string (nullable = true)\n",
      " |-- itemInSession: string (nullable = true)\n",
      " |-- lastName: string (nullable = true)\n",
      " |-- length: float (nullable = true)\n",
      " |-- level: string (nullable = true)\n",
      " |-- location: string (nullable = true)\n",
      " |-- method: string (nullable = true)\n",
      " |-- page: string (nullable = true)\n",
      " |-- registration: string (nullable = true)\n",
      " |-- sessionId: integer (nullable = true)\n",
      " |-- song: string (nullable = true)\n",
      " |-- status: integer (nullable = true)\n",
      " |-- ts: long (nullable = true)\n",
      " |-- userAgent: string (nullable = true)\n",
      " |-- userId: string (nullable = true)\n",
      " |-- start_time: string (nullable = true)"
     ]
    }
   ],
   "source": [
    "df_log.printSchema()"
   ]
  },
  {
   "cell_type": "code",
   "execution_count": 24,
   "id": "19ca6b65-43be-46ab-b282-02115ee61282",
   "metadata": {
    "execution": {
     "iopub.execute_input": "2022-03-20T21:16:04.488867Z",
     "iopub.status.busy": "2022-03-20T21:16:04.488586Z",
     "iopub.status.idle": "2022-03-20T21:16:05.657175Z",
     "shell.execute_reply": "2022-03-20T21:16:05.656415Z",
     "shell.execute_reply.started": "2022-03-20T21:16:04.488829Z"
    },
    "tags": []
   },
   "outputs": [
    {
     "data": {
      "application/vnd.jupyter.widget-view+json": {
       "model_id": "e83e6d893dfc4e63b58c9a0136da09e6",
       "version_major": 2,
       "version_minor": 0
      },
      "text/plain": [
       "VBox()"
      ]
     },
     "metadata": {},
     "output_type": "display_data"
    },
    {
     "data": {
      "application/vnd.jupyter.widget-view+json": {
       "model_id": "",
       "version_major": 2,
       "version_minor": 0
      },
      "text/plain": [
       "FloatProgress(value=0.0, bar_style='info', description='Progress:', layout=Layout(height='25px', width='50%'),…"
      ]
     },
     "metadata": {},
     "output_type": "display_data"
    },
    {
     "name": "stdout",
     "output_type": "stream",
     "text": [
      "8056"
     ]
    }
   ],
   "source": [
    "df_log.count()"
   ]
  },
  {
   "cell_type": "code",
   "execution_count": 25,
   "id": "1be01f41-639b-4c3f-a91d-5d024e9a396c",
   "metadata": {
    "execution": {
     "iopub.execute_input": "2022-03-20T21:16:05.662226Z",
     "iopub.status.busy": "2022-03-20T21:16:05.661972Z",
     "iopub.status.idle": "2022-03-20T21:16:06.610853Z",
     "shell.execute_reply": "2022-03-20T21:16:06.610129Z",
     "shell.execute_reply.started": "2022-03-20T21:16:05.662188Z"
    },
    "tags": []
   },
   "outputs": [
    {
     "data": {
      "application/vnd.jupyter.widget-view+json": {
       "model_id": "afa89c34aa6342dc945a4d65a4b2f007",
       "version_major": 2,
       "version_minor": 0
      },
      "text/plain": [
       "VBox()"
      ]
     },
     "metadata": {},
     "output_type": "display_data"
    },
    {
     "data": {
      "application/vnd.jupyter.widget-view+json": {
       "model_id": "",
       "version_major": 2,
       "version_minor": 0
      },
      "text/plain": [
       "FloatProgress(value=0.0, bar_style='info', description='Progress:', layout=Layout(height='25px', width='50%'),…"
      ]
     },
     "metadata": {},
     "output_type": "display_data"
    },
    {
     "name": "stdout",
     "output_type": "stream",
     "text": [
      "+-----------+----------+---------+------+-------------+--------+---------+-----+--------------------+------+--------+-----------------+---------+--------------------+------+-------------+--------------------+------+-------------------+\n",
      "|     artist|      auth|firstName|gender|itemInSession|lastName|   length|level|            location|method|    page|     registration|sessionId|                song|status|           ts|           userAgent|userId|         start_time|\n",
      "+-----------+----------+---------+------+-------------+--------+---------+-----+--------------------+------+--------+-----------------+---------+--------------------+------+-------------+--------------------+------+-------------------+\n",
      "|   Harmonia| Logged In|     Ryan|     M|            0|   Smith| 655.7775| free|San Jose-Sunnyval...|   PUT|NextSong|1.541016707796E12|      583|       Sehr kosmisch|   200|1542241826796|\"Mozilla/5.0 (X11...|    26|2018-11-14 16:30:26|\n",
      "|The Prodigy| Logged In|     Ryan|     M|            1|   Smith|260.07465| free|San Jose-Sunnyval...|   PUT|NextSong|1.541016707796E12|      583|     The Big Gundown|   200|1542242481796|\"Mozilla/5.0 (X11...|    26|2018-11-14 16:41:21|\n",
      "|      Train| Logged In|     Ryan|     M|            2|   Smith| 205.4526| free|San Jose-Sunnyval...|   PUT|NextSong|1.541016707796E12|      583|            Marry Me|   200|1542242741796|\"Mozilla/5.0 (X11...|    26|2018-11-14 16:45:41|\n",
      "|       null| Logged In|    Wyatt|     M|            0|   Scott|     null| free|Eureka-Arcata-For...|   GET|    Home|1.540872073796E12|      563|                null|   200|1542247071796|Mozilla/5.0 (Wind...|     9|2018-11-14 17:57:51|\n",
      "|       null| Logged In|   Austin|     M|            0| Rosales|     null| free|New York-Newark-J...|   GET|    Home|1.541059521796E12|      521|                null|   200|1542252577796|Mozilla/5.0 (Wind...|    12|2018-11-14 19:29:37|\n",
      "|Sony Wonder| Logged In|   Samuel|     M|            0|Gonzalez|218.06975| free|Houston-The Woodl...|   PUT|NextSong|1.540492941796E12|      597|           Blackbird|   200|1542253449796|\"Mozilla/5.0 (Mac...|    61|2018-11-14 19:44:09|\n",
      "|       null| Logged In|   Samuel|     M|            1|Gonzalez|     null| free|Houston-The Woodl...|   GET|   About|1.540492941796E12|      597|                null|   200|1542253460796|\"Mozilla/5.0 (Mac...|    61|2018-11-14 19:44:20|\n",
      "|       null|Logged Out|     null|  null|            0|    null|     null| paid|                null|   PUT|   Login|             null|      602|                null|   307|1542260074796|                null|      |2018-11-14 21:34:34|\n",
      "|       null| Logged In|    Tegan|     F|            1|  Levine|     null| paid|Portland-South Po...|   GET|    Home|1.540794356796E12|      602|                null|   200|1542260277796|\"Mozilla/5.0 (Mac...|    80|2018-11-14 21:37:57|\n",
      "|  Van Halen| Logged In|    Tegan|     F|            2|  Levine|289.38403| paid|Portland-South Po...|   PUT|NextSong|1.540794356796E12|      602|Best Of Both Worl...|   200|1542260935796|\"Mozilla/5.0 (Mac...|    80|2018-11-14 21:48:55|\n",
      "+-----------+----------+---------+------+-------------+--------+---------+-----+--------------------+------+--------+-----------------+---------+--------------------+------+-------------+--------------------+------+-------------------+\n",
      "only showing top 10 rows"
     ]
    }
   ],
   "source": [
    "df_log.show(n=10)"
   ]
  },
  {
   "cell_type": "markdown",
   "id": "a65e5332-7ee2-45e2-a490-3f3480bce49f",
   "metadata": {},
   "source": [
    "## Create songplay data"
   ]
  },
  {
   "cell_type": "code",
   "execution_count": 26,
   "id": "8ecac49d-e2e5-49a1-9ac6-6ed245766ac1",
   "metadata": {
    "execution": {
     "iopub.execute_input": "2022-03-20T21:16:06.686461Z",
     "iopub.status.busy": "2022-03-20T21:16:06.612474Z",
     "iopub.status.idle": "2022-03-20T21:16:08.400712Z",
     "shell.execute_reply": "2022-03-20T21:16:08.293425Z",
     "shell.execute_reply.started": "2022-03-20T21:16:06.686406Z"
    },
    "tags": []
   },
   "outputs": [
    {
     "data": {
      "application/vnd.jupyter.widget-view+json": {
       "model_id": "7129d6f38dbf4925b3a68a4e3c73ed2b",
       "version_major": 2,
       "version_minor": 0
      },
      "text/plain": [
       "VBox()"
      ]
     },
     "metadata": {},
     "output_type": "display_data"
    },
    {
     "data": {
      "application/vnd.jupyter.widget-view+json": {
       "model_id": "",
       "version_major": 2,
       "version_minor": 0
      },
      "text/plain": [
       "FloatProgress(value=0.0, bar_style='info', description='Progress:', layout=Layout(height='25px', width='50%'),…"
      ]
     },
     "metadata": {},
     "output_type": "display_data"
    },
    {
     "name": "stdout",
     "output_type": "stream",
     "text": [
      "[Row(page='Submit Downgrade'), Row(page='Home'), Row(page='Downgrade'), Row(page='Logout'), Row(page='Save Settings'), Row(page='About'), Row(page='Settings'), Row(page='Login'), Row(page='NextSong'), Row(page='Help'), Row(page='Upgrade'), Row(page='Error'), Row(page='Submit Upgrade')]"
     ]
    }
   ],
   "source": [
    "df_log.select([\"page\"]).distinct().collect()"
   ]
  },
  {
   "cell_type": "markdown",
   "id": "e2308267-5c4a-4f39-8245-a91d02e6254f",
   "metadata": {},
   "source": [
    "We are interested only in song reproductions, so we filter when page is equal to *NextSong*.\n",
    "\n",
    "After the data is filtered we need to get to add the columns: *song_id*, *artist_id*. So we joined it with: *artists_table* and *song_table* "
   ]
  },
  {
   "cell_type": "code",
   "execution_count": 27,
   "id": "1781e282-5983-4aed-a02b-fda5ae298bb1",
   "metadata": {
    "execution": {
     "iopub.execute_input": "2022-03-20T21:16:08.402232Z",
     "iopub.status.busy": "2022-03-20T21:16:08.401970Z",
     "iopub.status.idle": "2022-03-20T21:16:10.100752Z",
     "shell.execute_reply": "2022-03-20T21:16:10.096939Z",
     "shell.execute_reply.started": "2022-03-20T21:16:08.402193Z"
    },
    "tags": []
   },
   "outputs": [
    {
     "data": {
      "application/vnd.jupyter.widget-view+json": {
       "model_id": "00102d514e3644f9b1e98d984fd51d63",
       "version_major": 2,
       "version_minor": 0
      },
      "text/plain": [
       "VBox()"
      ]
     },
     "metadata": {},
     "output_type": "display_data"
    },
    {
     "data": {
      "application/vnd.jupyter.widget-view+json": {
       "model_id": "",
       "version_major": 2,
       "version_minor": 0
      },
      "text/plain": [
       "FloatProgress(value=0.0, bar_style='info', description='Progress:', layout=Layout(height='25px', width='50%'),…"
      ]
     },
     "metadata": {},
     "output_type": "display_data"
    }
   ],
   "source": [
    "artists_table_join = artists_table_renamed.select(['id', 'name'])\n",
    "song_table_join = songs_table.select([\"song_id\", \"title\", \"artist_id\"])"
   ]
  },
  {
   "cell_type": "code",
   "execution_count": 28,
   "id": "5e903fb4-ba6b-4d60-9cdf-24406ebcfe37",
   "metadata": {
    "execution": {
     "iopub.execute_input": "2022-03-20T21:16:10.189624Z",
     "iopub.status.busy": "2022-03-20T21:16:10.189392Z",
     "iopub.status.idle": "2022-03-20T21:16:11.703648Z",
     "shell.execute_reply": "2022-03-20T21:16:11.608406Z",
     "shell.execute_reply.started": "2022-03-20T21:16:10.189586Z"
    },
    "tags": []
   },
   "outputs": [
    {
     "data": {
      "application/vnd.jupyter.widget-view+json": {
       "model_id": "8fee205f84e0416ab3386afbcdc38b7d",
       "version_major": 2,
       "version_minor": 0
      },
      "text/plain": [
       "VBox()"
      ]
     },
     "metadata": {},
     "output_type": "display_data"
    },
    {
     "data": {
      "application/vnd.jupyter.widget-view+json": {
       "model_id": "",
       "version_major": 2,
       "version_minor": 0
      },
      "text/plain": [
       "FloatProgress(value=0.0, bar_style='info', description='Progress:', layout=Layout(height='25px', width='50%'),…"
      ]
     },
     "metadata": {},
     "output_type": "display_data"
    }
   ],
   "source": [
    "df_log_filtered = df_log.where(df_log.page == 'NextSong')"
   ]
  },
  {
   "cell_type": "code",
   "execution_count": 29,
   "id": "e3f34c36-e614-47c7-8b4e-2af74eaf30fb",
   "metadata": {
    "execution": {
     "iopub.execute_input": "2022-03-20T21:16:11.705177Z",
     "iopub.status.busy": "2022-03-20T21:16:11.704845Z",
     "iopub.status.idle": "2022-03-20T21:16:13.184661Z",
     "shell.execute_reply": "2022-03-20T21:16:13.108296Z",
     "shell.execute_reply.started": "2022-03-20T21:16:11.705138Z"
    },
    "tags": []
   },
   "outputs": [
    {
     "data": {
      "application/vnd.jupyter.widget-view+json": {
       "model_id": "80a9f15ad53a48db828cd0391e1db039",
       "version_major": 2,
       "version_minor": 0
      },
      "text/plain": [
       "VBox()"
      ]
     },
     "metadata": {},
     "output_type": "display_data"
    },
    {
     "data": {
      "application/vnd.jupyter.widget-view+json": {
       "model_id": "",
       "version_major": 2,
       "version_minor": 0
      },
      "text/plain": [
       "FloatProgress(value=0.0, bar_style='info', description='Progress:', layout=Layout(height='25px', width='50%'),…"
      ]
     },
     "metadata": {},
     "output_type": "display_data"
    },
    {
     "name": "stdout",
     "output_type": "stream",
     "text": [
      "root\n",
      " |-- artist: string (nullable = true)\n",
      " |-- auth: string (nullable = true)\n",
      " |-- firstName: string (nullable = true)\n",
      " |-- gender: string (nullable = true)\n",
      " |-- itemInSession: string (nullable = true)\n",
      " |-- lastName: string (nullable = true)\n",
      " |-- length: float (nullable = true)\n",
      " |-- level: string (nullable = true)\n",
      " |-- location: string (nullable = true)\n",
      " |-- method: string (nullable = true)\n",
      " |-- page: string (nullable = true)\n",
      " |-- registration: string (nullable = true)\n",
      " |-- sessionId: integer (nullable = true)\n",
      " |-- song: string (nullable = true)\n",
      " |-- status: integer (nullable = true)\n",
      " |-- ts: long (nullable = true)\n",
      " |-- userAgent: string (nullable = true)\n",
      " |-- userId: string (nullable = true)\n",
      " |-- start_time: string (nullable = true)\n",
      " |-- id: string (nullable = true)\n",
      " |-- name: string (nullable = true)\n",
      " |-- song_id: string (nullable = true)\n",
      " |-- title: string (nullable = true)\n",
      " |-- artist_id: string (nullable = true)"
     ]
    }
   ],
   "source": [
    "df_log_joined = (\n",
    "    df_log_filtered\n",
    "    .join(artists_table_join,\n",
    "          df_log_filtered.artist == artists_table_join.name,\n",
    "          how='left_outer')\n",
    ")\n",
    "\n",
    "df_log_joined = (\n",
    "    df_log_joined\n",
    "    .join(song_table_join,\n",
    "          (song_table_join.artist_id == df_log_joined.id) & (song_table_join.title == df_log_joined.song),\n",
    "          how='left_outer'\n",
    "         )\n",
    ")\n",
    "df_log_joined.printSchema()"
   ]
  },
  {
   "cell_type": "code",
   "execution_count": 30,
   "id": "88953d1b-00d7-4479-96ad-21e397684621",
   "metadata": {
    "execution": {
     "iopub.execute_input": "2022-03-20T21:16:13.188474Z",
     "iopub.status.busy": "2022-03-20T21:16:13.188282Z",
     "iopub.status.idle": "2022-03-20T21:18:09.425907Z",
     "shell.execute_reply": "2022-03-20T21:18:09.424837Z",
     "shell.execute_reply.started": "2022-03-20T21:16:13.188448Z"
    },
    "tags": []
   },
   "outputs": [
    {
     "data": {
      "application/vnd.jupyter.widget-view+json": {
       "model_id": "2472db8b133c4bcc99e1a44b6e732518",
       "version_major": 2,
       "version_minor": 0
      },
      "text/plain": [
       "VBox()"
      ]
     },
     "metadata": {},
     "output_type": "display_data"
    },
    {
     "data": {
      "application/vnd.jupyter.widget-view+json": {
       "model_id": "",
       "version_major": 2,
       "version_minor": 0
      },
      "text/plain": [
       "FloatProgress(value=0.0, bar_style='info', description='Progress:', layout=Layout(height='25px', width='50%'),…"
      ]
     },
     "metadata": {},
     "output_type": "display_data"
    },
    {
     "name": "stdout",
     "output_type": "stream",
     "text": [
      "+--------------------+---------+---------+------+-------------+--------+---------+-----+--------------------+------+--------+-----------------+---------+--------------------+------+-------------+--------------------+------+-------------------+------------------+------------+-------+-----+---------+\n",
      "|              artist|     auth|firstName|gender|itemInSession|lastName|   length|level|            location|method|    page|     registration|sessionId|                song|status|           ts|           userAgent|userId|         start_time|                id|        name|song_id|title|artist_id|\n",
      "+--------------------+---------+---------+------+-------------+--------+---------+-----+--------------------+------+--------+-----------------+---------+--------------------+------+-------------+--------------------+------+-------------------+------------------+------------+-------+-----+---------+\n",
      "|            Harmonia|Logged In|     Ryan|     M|            0|   Smith| 655.7775| free|San Jose-Sunnyval...|   PUT|NextSong|1.541016707796E12|      583|       Sehr kosmisch|   200|1542241826796|\"Mozilla/5.0 (X11...|    26|2018-11-14 16:30:26|              null|        null|   null| null|     null|\n",
      "|         The Prodigy|Logged In|     Ryan|     M|            1|   Smith|260.07465| free|San Jose-Sunnyval...|   PUT|NextSong|1.541016707796E12|      583|     The Big Gundown|   200|1542242481796|\"Mozilla/5.0 (X11...|    26|2018-11-14 16:41:21|AR4L4WQ1187FB51996| The Prodigy|   null| null|     null|\n",
      "|               Train|Logged In|     Ryan|     M|            2|   Smith| 205.4526| free|San Jose-Sunnyval...|   PUT|NextSong|1.541016707796E12|      583|            Marry Me|   200|1542242741796|\"Mozilla/5.0 (X11...|    26|2018-11-14 16:45:41|ARICCZI1187B9AEBB3|       Train|   null| null|     null|\n",
      "|         Sony Wonder|Logged In|   Samuel|     M|            0|Gonzalez|218.06975| free|Houston-The Woodl...|   PUT|NextSong|1.540492941796E12|      597|           Blackbird|   200|1542253449796|\"Mozilla/5.0 (Mac...|    61|2018-11-14 19:44:09|              null|        null|   null| null|     null|\n",
      "|           Van Halen|Logged In|    Tegan|     F|            2|  Levine|289.38403| paid|Portland-South Po...|   PUT|NextSong|1.540794356796E12|      602|Best Of Both Worl...|   200|1542260935796|\"Mozilla/5.0 (Mac...|    80|2018-11-14 21:48:55|ARNLO5S1187B9B80CC|   Van Halen|   null| null|     null|\n",
      "|           Magic Sam|Logged In|    Tegan|     F|            3|  Levine|132.04852| paid|Portland-South Po...|   PUT|NextSong|1.540794356796E12|      602|Call Me If You Ne...|   200|1542261224796|\"Mozilla/5.0 (Mac...|    80|2018-11-14 21:53:44|              null|        null|   null| null|     null|\n",
      "|Edward Sharpe & T...|Logged In|    Tegan|     F|            4|  Levine|306.31137| paid|Portland-South Po...|   PUT|NextSong|1.540794356796E12|      602|                Home|   200|1542261356796|\"Mozilla/5.0 (Mac...|    80|2018-11-14 21:55:56|              null|        null|   null| null|     null|\n",
      "|Usher featuring w...|Logged In|    Tegan|     F|            5|  Levine|395.72852| paid|Portland-South Po...|   PUT|NextSong|1.540794356796E12|      602|                 OMG|   200|1542261662796|\"Mozilla/5.0 (Mac...|    80|2018-11-14 22:01:02|              null|        null|   null| null|     null|\n",
      "|         Helen Reddy|Logged In|    Tegan|     F|            7|  Levine|176.50893| paid|Portland-South Po...|   PUT|NextSong|1.540794356796E12|      602| Candle On The Water|   200|1542262057796|\"Mozilla/5.0 (Mac...|    80|2018-11-14 22:07:37|AR5J7RY1187FB3781C| Helen Reddy|   null| null|     null|\n",
      "|        Taylor Swift|Logged In|    Tegan|     F|            8|  Levine|201.06404| paid|Portland-South Po...|   PUT|NextSong|1.540794356796E12|      602|            Our Song|   200|1542262233796|\"Mozilla/5.0 (Mac...|    80|2018-11-14 22:10:33|ARS54I31187FB46721|Taylor Swift|   null| null|     null|\n",
      "+--------------------+---------+---------+------+-------------+--------+---------+-----+--------------------+------+--------+-----------------+---------+--------------------+------+-------------+--------------------+------+-------------------+------------------+------------+-------+-----+---------+\n",
      "only showing top 10 rows"
     ]
    }
   ],
   "source": [
    "df_log_joined.show(10)"
   ]
  },
  {
   "cell_type": "markdown",
   "id": "a0d4e398-9675-4775-ae40-7814fb8ac506",
   "metadata": {},
   "source": [
    "Verify that before and after the joined the amount of rows are the same. It means that the data was not duplicated."
   ]
  },
  {
   "cell_type": "code",
   "execution_count": 31,
   "id": "45e395a5-3c94-43de-a9a4-d65efff75106",
   "metadata": {
    "execution": {
     "iopub.execute_input": "2022-03-20T21:18:09.429533Z",
     "iopub.status.busy": "2022-03-20T21:18:09.429095Z",
     "iopub.status.idle": "2022-03-20T21:20:03.303366Z",
     "shell.execute_reply": "2022-03-20T21:20:03.302504Z",
     "shell.execute_reply.started": "2022-03-20T21:18:09.429319Z"
    },
    "tags": []
   },
   "outputs": [
    {
     "data": {
      "application/vnd.jupyter.widget-view+json": {
       "model_id": "a107228df4384daa9c3f8601d707e0c6",
       "version_major": 2,
       "version_minor": 0
      },
      "text/plain": [
       "VBox()"
      ]
     },
     "metadata": {},
     "output_type": "display_data"
    },
    {
     "data": {
      "application/vnd.jupyter.widget-view+json": {
       "model_id": "",
       "version_major": 2,
       "version_minor": 0
      },
      "text/plain": [
       "FloatProgress(value=0.0, bar_style='info', description='Progress:', layout=Layout(height='25px', width='50%'),…"
      ]
     },
     "metadata": {},
     "output_type": "display_data"
    },
    {
     "name": "stdout",
     "output_type": "stream",
     "text": [
      "6820 6820"
     ]
    }
   ],
   "source": [
    "print(df_log_filtered.count(),\n",
    "      df_log_joined.count())"
   ]
  },
  {
   "cell_type": "markdown",
   "id": "d0c9bfb5-49bb-4f7a-a80b-010dc3d07695",
   "metadata": {},
   "source": [
    "Songplay id is created."
   ]
  },
  {
   "cell_type": "code",
   "execution_count": 32,
   "id": "669d63f0-3397-4db9-8ce2-fb784806515e",
   "metadata": {
    "execution": {
     "iopub.execute_input": "2022-03-20T21:20:03.306076Z",
     "iopub.status.busy": "2022-03-20T21:20:03.305797Z",
     "iopub.status.idle": "2022-03-20T21:22:03.086296Z",
     "shell.execute_reply": "2022-03-20T21:22:03.024537Z",
     "shell.execute_reply.started": "2022-03-20T21:20:03.306036Z"
    },
    "tags": []
   },
   "outputs": [
    {
     "data": {
      "application/vnd.jupyter.widget-view+json": {
       "model_id": "4c893f50eced4a7a93a53fee3ff4b9bf",
       "version_major": 2,
       "version_minor": 0
      },
      "text/plain": [
       "VBox()"
      ]
     },
     "metadata": {},
     "output_type": "display_data"
    },
    {
     "data": {
      "application/vnd.jupyter.widget-view+json": {
       "model_id": "",
       "version_major": 2,
       "version_minor": 0
      },
      "text/plain": [
       "FloatProgress(value=0.0, bar_style='info', description='Progress:', layout=Layout(height='25px', width='50%'),…"
      ]
     },
     "metadata": {},
     "output_type": "display_data"
    },
    {
     "name": "stdout",
     "output_type": "stream",
     "text": [
      "+--------------------+---------+---------+------+-------------+--------+---------+-----+--------------------+------+--------+-----------------+---------+--------------------+------+-------------+--------------------+------+-------------------+------------------+-------------+-------+-----+---------+-----------+\n",
      "|              artist|     auth|firstName|gender|itemInSession|lastName|   length|level|            location|method|    page|     registration|sessionId|                song|status|           ts|           userAgent|userId|         start_time|                id|         name|song_id|title|artist_id|songplay_id|\n",
      "+--------------------+---------+---------+------+-------------+--------+---------+-----+--------------------+------+--------+-----------------+---------+--------------------+------+-------------+--------------------+------+-------------------+------------------+-------------+-------+-----+---------+-----------+\n",
      "|       Stephen Lynch|Logged In|   Jayden|     M|            0|    Bell|182.85669| free|Dallas-Fort Worth...|   PUT|NextSong|1.540991795796E12|      829|   Jim Henson's Dead|   200|1543537327796|Mozilla/5.0 (comp...|    91|2018-11-29 16:22:07|AR0OE2I1187B989368|Stephen Lynch|   null| null|     null|          1|\n",
      "|             Manowar|Logged In|    Jacob|     M|            0|   Klein|  247.562| paid|Tampa-St. Petersb...|   PUT|NextSong|1.540558108796E12|     1049|         Shell Shock|   200|1543540121796|\"Mozilla/5.0 (Mac...|    73|2018-11-29 17:08:41|ARGR0EI1187B9A8DFE|      Manowar|   null| null|     null|          2|\n",
      "|           Morcheeba|Logged In|    Jacob|     M|            1|   Klein|257.41016| paid|Tampa-St. Petersb...|   PUT|NextSong|1.540558108796E12|     1049|Women Lose Weight...|   200|1543540368796|\"Mozilla/5.0 (Mac...|    73|2018-11-29 17:12:48|ARU3C671187FB3F71B|    Morcheeba|   null| null|     null|          3|\n",
      "|            Maroon 5|Logged In|    Jacob|     M|            2|   Klein|231.23546| paid|Tampa-St. Petersb...|   PUT|NextSong|1.540558108796E12|     1049|Won't Go Home Wit...|   200|1543540625796|\"Mozilla/5.0 (Mac...|    73|2018-11-29 17:17:05|ARF5M7Q1187FB501E8|     Maroon 5|   null| null|     null|          4|\n",
      "|               Train|Logged In|    Jacob|     M|            3|   Klein|216.76363| paid|Tampa-St. Petersb...|   PUT|NextSong|1.540558108796E12|     1049|    Hey_ Soul Sister|   200|1543540856796|\"Mozilla/5.0 (Mac...|    73|2018-11-29 17:20:56|ARICCZI1187B9AEBB3|        Train|   null| null|     null|          5|\n",
      "|               LMFAO|Logged In|    Jacob|     M|            4|   Klein|227.99628| paid|Tampa-St. Petersb...|   PUT|NextSong|1.540558108796E12|     1049|  I'm In Miami Bitch|   200|1543541072796|\"Mozilla/5.0 (Mac...|    73|2018-11-29 17:24:32|              null|         null|   null| null|     null|          6|\n",
      "|            DJ Dizzy|Logged In|    Jacob|     M|            5|   Klein| 221.1522| paid|Tampa-St. Petersb...|   PUT|NextSong|1.540558108796E12|     1049|          Sexy Bitch|   200|1543541299796|\"Mozilla/5.0 (Mac...|    73|2018-11-29 17:28:19|              null|         null|   null| null|     null|          7|\n",
      "|Fish Go Deep & Tr...|Logged In|    Jacob|     M|            6|   Klein| 377.4167| paid|Tampa-St. Petersb...|   PUT|NextSong|1.540558108796E12|     1049|The Cure & The Ca...|   200|1543541520796|\"Mozilla/5.0 (Mac...|    73|2018-11-29 17:32:00|              null|         null|   null| null|     null|          8|\n",
      "|                 M83|Logged In|    Jacob|     M|            7|   Klein|  96.1824| paid|Tampa-St. Petersb...|   PUT|NextSong|1.540558108796E12|     1049|       Staring At Me|   200|1543541897796|\"Mozilla/5.0 (Mac...|    73|2018-11-29 17:38:17|ARB6OGR1187FB4D43D|          M83|   null| null|     null|          9|\n",
      "|              Saybia|Logged In|    Jacob|     M|            8|   Klein|257.25342| paid|Tampa-St. Petersb...|   PUT|NextSong|1.540558108796E12|     1049|The Second You Sleep|   200|1543541993796|\"Mozilla/5.0 (Mac...|    73|2018-11-29 17:39:53|              null|         null|   null| null|     null|         10|\n",
      "+--------------------+---------+---------+------+-------------+--------+---------+-----+--------------------+------+--------+-----------------+---------+--------------------+------+-------------+--------------------+------+-------------------+------------------+-------------+-------+-----+---------+-----------+\n",
      "only showing top 10 rows"
     ]
    }
   ],
   "source": [
    "w = Window().orderBy(lit('A'))\n",
    "\n",
    "df_id = df_log_joined.withColumn(\"songplay_id\", row_number().over(w))\n",
    "df_id.show(10)"
   ]
  },
  {
   "cell_type": "markdown",
   "id": "5a0eaeab-edd2-45cd-8eca-58cdb4e1e8a8",
   "metadata": {},
   "source": [
    "The columns year and month are created so the data can be partioned. "
   ]
  },
  {
   "cell_type": "code",
   "execution_count": 33,
   "id": "e1a6b3e6-72b4-41ba-9393-a2893705b36a",
   "metadata": {
    "execution": {
     "iopub.execute_input": "2022-03-20T21:22:03.087683Z",
     "iopub.status.busy": "2022-03-20T21:22:03.087419Z",
     "iopub.status.idle": "2022-03-20T21:22:03.903033Z",
     "shell.execute_reply": "2022-03-20T21:22:03.902052Z",
     "shell.execute_reply.started": "2022-03-20T21:22:03.087646Z"
    },
    "tags": []
   },
   "outputs": [
    {
     "data": {
      "application/vnd.jupyter.widget-view+json": {
       "model_id": "2cb25a27e5434bc39240d99ad7c56d12",
       "version_major": 2,
       "version_minor": 0
      },
      "text/plain": [
       "VBox()"
      ]
     },
     "metadata": {},
     "output_type": "display_data"
    },
    {
     "data": {
      "application/vnd.jupyter.widget-view+json": {
       "model_id": "",
       "version_major": 2,
       "version_minor": 0
      },
      "text/plain": [
       "FloatProgress(value=0.0, bar_style='info', description='Progress:', layout=Layout(height='25px', width='50%'),…"
      ]
     },
     "metadata": {},
     "output_type": "display_data"
    },
    {
     "name": "stdout",
     "output_type": "stream",
     "text": [
      "root\n",
      " |-- songplay_id: integer (nullable = true)\n",
      " |-- start_time: string (nullable = true)\n",
      " |-- userId: string (nullable = true)\n",
      " |-- level: string (nullable = true)\n",
      " |-- song: string (nullable = true)\n",
      " |-- artist: string (nullable = true)\n",
      " |-- sessionId: integer (nullable = true)\n",
      " |-- location: string (nullable = true)\n",
      " |-- userAgent: string (nullable = true)\n",
      " |-- year: integer (nullable = true)\n",
      " |-- month: integer (nullable = true)"
     ]
    }
   ],
   "source": [
    "songplays_table = (\n",
    "    df_id\n",
    "    .withColumn('year', year(col('start_time')))\n",
    "    .withColumn('month', month(col('start_time')))\n",
    "    .select([\n",
    "    'songplay_id',\n",
    "    'start_time', \n",
    "    'userId',\n",
    "    'level',\n",
    "    'song',\n",
    "    'artist',\n",
    "    'sessionId',\n",
    "    'location',\n",
    "    'userAgent',\n",
    "    'year',\n",
    "    'month'\n",
    "    ])\n",
    ")\n",
    "songplays_table.printSchema()"
   ]
  },
  {
   "cell_type": "code",
   "execution_count": 34,
   "id": "0bcc0541-6c3b-4159-ae3f-11a54c7f0483",
   "metadata": {
    "execution": {
     "iopub.execute_input": "2022-03-20T21:22:03.912068Z",
     "iopub.status.busy": "2022-03-20T21:22:03.907368Z",
     "iopub.status.idle": "2022-03-20T21:23:56.147857Z",
     "shell.execute_reply": "2022-03-20T21:23:56.147029Z",
     "shell.execute_reply.started": "2022-03-20T21:22:03.912013Z"
    },
    "tags": []
   },
   "outputs": [
    {
     "data": {
      "application/vnd.jupyter.widget-view+json": {
       "model_id": "d40ad9ca8cb34f12ab54bbfe2871e679",
       "version_major": 2,
       "version_minor": 0
      },
      "text/plain": [
       "VBox()"
      ]
     },
     "metadata": {},
     "output_type": "display_data"
    },
    {
     "data": {
      "application/vnd.jupyter.widget-view+json": {
       "model_id": "",
       "version_major": 2,
       "version_minor": 0
      },
      "text/plain": [
       "FloatProgress(value=0.0, bar_style='info', description='Progress:', layout=Layout(height='25px', width='50%'),…"
      ]
     },
     "metadata": {},
     "output_type": "display_data"
    },
    {
     "name": "stdout",
     "output_type": "stream",
     "text": [
      "+-----------+-------------------+------+-----+--------------------+--------------------+---------+--------------------+--------------------+----+-----+\n",
      "|songplay_id|         start_time|userId|level|                song|              artist|sessionId|            location|           userAgent|year|month|\n",
      "+-----------+-------------------+------+-----+--------------------+--------------------+---------+--------------------+--------------------+----+-----+\n",
      "|          1|2018-11-29 16:22:07|    91| free|   Jim Henson's Dead|       Stephen Lynch|      829|Dallas-Fort Worth...|Mozilla/5.0 (comp...|2018|   11|\n",
      "|          2|2018-11-29 17:08:41|    73| paid|         Shell Shock|             Manowar|     1049|Tampa-St. Petersb...|\"Mozilla/5.0 (Mac...|2018|   11|\n",
      "|          3|2018-11-29 17:12:48|    73| paid|Women Lose Weight...|           Morcheeba|     1049|Tampa-St. Petersb...|\"Mozilla/5.0 (Mac...|2018|   11|\n",
      "|          4|2018-11-29 17:17:05|    73| paid|Won't Go Home Wit...|            Maroon 5|     1049|Tampa-St. Petersb...|\"Mozilla/5.0 (Mac...|2018|   11|\n",
      "|          5|2018-11-29 17:20:56|    73| paid|    Hey_ Soul Sister|               Train|     1049|Tampa-St. Petersb...|\"Mozilla/5.0 (Mac...|2018|   11|\n",
      "|          6|2018-11-29 17:24:32|    73| paid|  I'm In Miami Bitch|               LMFAO|     1049|Tampa-St. Petersb...|\"Mozilla/5.0 (Mac...|2018|   11|\n",
      "|          7|2018-11-29 17:28:19|    73| paid|          Sexy Bitch|            DJ Dizzy|     1049|Tampa-St. Petersb...|\"Mozilla/5.0 (Mac...|2018|   11|\n",
      "|          8|2018-11-29 17:32:00|    73| paid|The Cure & The Ca...|Fish Go Deep & Tr...|     1049|Tampa-St. Petersb...|\"Mozilla/5.0 (Mac...|2018|   11|\n",
      "|          9|2018-11-29 17:38:17|    73| paid|       Staring At Me|                 M83|     1049|Tampa-St. Petersb...|\"Mozilla/5.0 (Mac...|2018|   11|\n",
      "|         10|2018-11-29 17:39:53|    73| paid|The Second You Sleep|              Saybia|     1049|Tampa-St. Petersb...|\"Mozilla/5.0 (Mac...|2018|   11|\n",
      "+-----------+-------------------+------+-----+--------------------+--------------------+---------+--------------------+--------------------+----+-----+\n",
      "only showing top 10 rows"
     ]
    }
   ],
   "source": [
    "songplays_table.show(10)"
   ]
  },
  {
   "cell_type": "markdown",
   "id": "b8f6cd8b-001b-43ba-80e3-0086fa0560e7",
   "metadata": {},
   "source": [
    "Save the data"
   ]
  },
  {
   "cell_type": "code",
   "execution_count": 35,
   "id": "aae74283-3d48-46d4-9bf4-f70c410c2634",
   "metadata": {
    "execution": {
     "iopub.execute_input": "2022-03-20T21:23:56.149778Z",
     "iopub.status.busy": "2022-03-20T21:23:56.149514Z",
     "iopub.status.idle": "2022-03-20T21:25:47.707968Z",
     "shell.execute_reply": "2022-03-20T21:25:47.707140Z",
     "shell.execute_reply.started": "2022-03-20T21:23:56.149740Z"
    },
    "tags": []
   },
   "outputs": [
    {
     "data": {
      "application/vnd.jupyter.widget-view+json": {
       "model_id": "29c32c060afb4e4b87fe7ef442328331",
       "version_major": 2,
       "version_minor": 0
      },
      "text/plain": [
       "VBox()"
      ]
     },
     "metadata": {},
     "output_type": "display_data"
    },
    {
     "data": {
      "application/vnd.jupyter.widget-view+json": {
       "model_id": "",
       "version_major": 2,
       "version_minor": 0
      },
      "text/plain": [
       "FloatProgress(value=0.0, bar_style='info', description='Progress:', layout=Layout(height='25px', width='50%'),…"
      ]
     },
     "metadata": {},
     "output_type": "display_data"
    }
   ],
   "source": [
    "(\n",
    "    songplays_table\n",
    "    .write.format(\"parquet\")\n",
    "    .partitionBy('year', 'month')\n",
    "    .mode('overwrite')\n",
    "    .save('s3://datalakepractice032022/songplays')\n",
    ")"
   ]
  },
  {
   "cell_type": "markdown",
   "id": "c12da132-a3e2-46ee-8f3d-65475d1cafb2",
   "metadata": {
    "tags": []
   },
   "source": [
    "## Create user"
   ]
  },
  {
   "cell_type": "markdown",
   "id": "0881f5fd-e972-40a2-ae51-13a51ebdeef5",
   "metadata": {},
   "source": [
    "The most recent information of each user is taken and saved."
   ]
  },
  {
   "cell_type": "code",
   "execution_count": 36,
   "id": "7f0a0d5f-6090-4c10-b299-c9ed620fcd8d",
   "metadata": {
    "execution": {
     "iopub.execute_input": "2022-03-20T21:25:47.709762Z",
     "iopub.status.busy": "2022-03-20T21:25:47.709511Z",
     "iopub.status.idle": "2022-03-20T21:25:48.203205Z",
     "shell.execute_reply": "2022-03-20T21:25:48.202175Z",
     "shell.execute_reply.started": "2022-03-20T21:25:47.709726Z"
    },
    "tags": []
   },
   "outputs": [
    {
     "data": {
      "application/vnd.jupyter.widget-view+json": {
       "model_id": "4f86ea4b8e35416cb0e6d9f2e4287761",
       "version_major": 2,
       "version_minor": 0
      },
      "text/plain": [
       "VBox()"
      ]
     },
     "metadata": {},
     "output_type": "display_data"
    },
    {
     "data": {
      "application/vnd.jupyter.widget-view+json": {
       "model_id": "",
       "version_major": 2,
       "version_minor": 0
      },
      "text/plain": [
       "FloatProgress(value=0.0, bar_style='info', description='Progress:', layout=Layout(height='25px', width='50%'),…"
      ]
     },
     "metadata": {},
     "output_type": "display_data"
    }
   ],
   "source": [
    "sw2 = Window.partitionBy(\"userId\").orderBy(col(\"start_time\").desc())"
   ]
  },
  {
   "cell_type": "code",
   "execution_count": 37,
   "id": "316c81ed-8882-47bd-b00b-d942e532b889",
   "metadata": {
    "execution": {
     "iopub.execute_input": "2022-03-20T21:25:48.206319Z",
     "iopub.status.busy": "2022-03-20T21:25:48.205437Z",
     "iopub.status.idle": "2022-03-20T21:25:48.697767Z",
     "shell.execute_reply": "2022-03-20T21:25:48.696904Z",
     "shell.execute_reply.started": "2022-03-20T21:25:48.206251Z"
    },
    "tags": []
   },
   "outputs": [
    {
     "data": {
      "application/vnd.jupyter.widget-view+json": {
       "model_id": "2f87abafbdbb4c50984b90417b3733c0",
       "version_major": 2,
       "version_minor": 0
      },
      "text/plain": [
       "VBox()"
      ]
     },
     "metadata": {},
     "output_type": "display_data"
    },
    {
     "data": {
      "application/vnd.jupyter.widget-view+json": {
       "model_id": "",
       "version_major": 2,
       "version_minor": 0
      },
      "text/plain": [
       "FloatProgress(value=0.0, bar_style='info', description='Progress:', layout=Layout(height='25px', width='50%'),…"
      ]
     },
     "metadata": {},
     "output_type": "display_data"
    },
    {
     "name": "stdout",
     "output_type": "stream",
     "text": [
      "root\n",
      " |-- user_id: string (nullable = true)\n",
      " |-- first_name: string (nullable = true)\n",
      " |-- last_name: string (nullable = true)\n",
      " |-- gender: string (nullable = true)\n",
      " |-- level: string (nullable = true)"
     ]
    }
   ],
   "source": [
    "users_table =(\n",
    "    df_log\n",
    "    .withColumn(\"row\", row_number().over(sw2))\n",
    "    .filter(col(\"row\") == 1)\n",
    "    .drop(\"row\")\n",
    "    .select([\"userId\", \"firstName\", \"lastName\", \"gender\",\"level\"])\n",
    "    .withColumnRenamed(\"userId\", \"user_id\")\n",
    "    .withColumnRenamed(\"firstName\", \"first_name\")\n",
    "    .withColumnRenamed(\"lastName\", \"last_name\")\n",
    ")\n",
    "users_table.printSchema()"
   ]
  },
  {
   "cell_type": "code",
   "execution_count": 38,
   "id": "28e1ad66-db8a-4668-9ae6-4fd8ab2a3807",
   "metadata": {
    "execution": {
     "iopub.execute_input": "2022-03-20T21:25:48.700047Z",
     "iopub.status.busy": "2022-03-20T21:25:48.699791Z",
     "iopub.status.idle": "2022-03-20T21:25:54.895824Z",
     "shell.execute_reply": "2022-03-20T21:25:54.894735Z",
     "shell.execute_reply.started": "2022-03-20T21:25:48.700011Z"
    }
   },
   "outputs": [
    {
     "data": {
      "application/vnd.jupyter.widget-view+json": {
       "model_id": "f4c4c2fb54e7466b95d2396a730a1b6f",
       "version_major": 2,
       "version_minor": 0
      },
      "text/plain": [
       "VBox()"
      ]
     },
     "metadata": {},
     "output_type": "display_data"
    },
    {
     "data": {
      "application/vnd.jupyter.widget-view+json": {
       "model_id": "",
       "version_major": 2,
       "version_minor": 0
      },
      "text/plain": [
       "FloatProgress(value=0.0, bar_style='info', description='Progress:', layout=Layout(height='25px', width='50%'),…"
      ]
     },
     "metadata": {},
     "output_type": "display_data"
    }
   ],
   "source": [
    "(\n",
    "    users_table\n",
    "    .write.format(\"parquet\")\n",
    "    .mode('overwrite')\n",
    "    .save('s3://datalakepractice032022/users')\n",
    ")"
   ]
  },
  {
   "cell_type": "markdown",
   "id": "b2a1fcbf-c413-49ae-a5ee-183f50843797",
   "metadata": {},
   "source": [
    "## Create time"
   ]
  },
  {
   "cell_type": "markdown",
   "id": "a70e1d8d-a10f-4d16-bf4a-6a00fca88a8a",
   "metadata": {},
   "source": [
    "The unique start times are taken and the addional information is calculated and then saved."
   ]
  },
  {
   "cell_type": "code",
   "execution_count": 39,
   "id": "5c949d7e-4746-4898-a63c-cc1a07e17a38",
   "metadata": {
    "execution": {
     "iopub.execute_input": "2022-03-20T21:25:54.898428Z",
     "iopub.status.busy": "2022-03-20T21:25:54.897593Z",
     "iopub.status.idle": "2022-03-20T21:25:55.802523Z",
     "shell.execute_reply": "2022-03-20T21:25:55.801275Z",
     "shell.execute_reply.started": "2022-03-20T21:25:54.898370Z"
    },
    "tags": []
   },
   "outputs": [
    {
     "data": {
      "application/vnd.jupyter.widget-view+json": {
       "model_id": "80a496a1429248a0bf0cc42e64d3bb36",
       "version_major": 2,
       "version_minor": 0
      },
      "text/plain": [
       "VBox()"
      ]
     },
     "metadata": {},
     "output_type": "display_data"
    },
    {
     "data": {
      "application/vnd.jupyter.widget-view+json": {
       "model_id": "",
       "version_major": 2,
       "version_minor": 0
      },
      "text/plain": [
       "FloatProgress(value=0.0, bar_style='info', description='Progress:', layout=Layout(height='25px', width='50%'),…"
      ]
     },
     "metadata": {},
     "output_type": "display_data"
    }
   ],
   "source": [
    "time_df = df_log.select('start_time').distinct()"
   ]
  },
  {
   "cell_type": "code",
   "execution_count": 40,
   "id": "0d1747ac-aeec-4f5b-976b-286966798db8",
   "metadata": {
    "execution": {
     "iopub.execute_input": "2022-03-20T21:25:55.804732Z",
     "iopub.status.busy": "2022-03-20T21:25:55.804059Z",
     "iopub.status.idle": "2022-03-20T21:25:56.403553Z",
     "shell.execute_reply": "2022-03-20T21:25:56.402043Z",
     "shell.execute_reply.started": "2022-03-20T21:25:55.804693Z"
    },
    "tags": []
   },
   "outputs": [
    {
     "data": {
      "application/vnd.jupyter.widget-view+json": {
       "model_id": "ecb8f49d8b72494f993e20e577414f10",
       "version_major": 2,
       "version_minor": 0
      },
      "text/plain": [
       "VBox()"
      ]
     },
     "metadata": {},
     "output_type": "display_data"
    },
    {
     "data": {
      "application/vnd.jupyter.widget-view+json": {
       "model_id": "",
       "version_major": 2,
       "version_minor": 0
      },
      "text/plain": [
       "FloatProgress(value=0.0, bar_style='info', description='Progress:', layout=Layout(height='25px', width='50%'),…"
      ]
     },
     "metadata": {},
     "output_type": "display_data"
    }
   ],
   "source": [
    "time_df_final = (\n",
    "    time_df\n",
    "    .withColumn('hour', hour(col('start_time')))\n",
    "    .withColumn('day', dayofmonth(col('start_time')))\n",
    "    .withColumn('week', weekofyear(col('start_time')))\n",
    "    .withColumn('month', month(col('start_time')))     \n",
    "    .withColumn('year', year(col('start_time')))\n",
    "    .withColumn('weekday', dayofweek(col('start_time')))\n",
    ")"
   ]
  },
  {
   "cell_type": "code",
   "execution_count": 41,
   "id": "ca25fcfa-d145-4ebf-b8c7-e8a1a09d8a56",
   "metadata": {
    "execution": {
     "iopub.execute_input": "2022-03-20T21:25:56.406158Z",
     "iopub.status.busy": "2022-03-20T21:25:56.405221Z",
     "iopub.status.idle": "2022-03-20T21:25:58.288021Z",
     "shell.execute_reply": "2022-03-20T21:25:58.287245Z",
     "shell.execute_reply.started": "2022-03-20T21:25:56.406098Z"
    },
    "tags": []
   },
   "outputs": [
    {
     "data": {
      "application/vnd.jupyter.widget-view+json": {
       "model_id": "791b9b426b1e438582b3a93ff21ba9f7",
       "version_major": 2,
       "version_minor": 0
      },
      "text/plain": [
       "VBox()"
      ]
     },
     "metadata": {},
     "output_type": "display_data"
    },
    {
     "data": {
      "application/vnd.jupyter.widget-view+json": {
       "model_id": "",
       "version_major": 2,
       "version_minor": 0
      },
      "text/plain": [
       "FloatProgress(value=0.0, bar_style='info', description='Progress:', layout=Layout(height='25px', width='50%'),…"
      ]
     },
     "metadata": {},
     "output_type": "display_data"
    },
    {
     "name": "stdout",
     "output_type": "stream",
     "text": [
      "+-------------------+----+---+----+-----+----+-------+\n",
      "|         start_time|hour|day|week|month|year|weekday|\n",
      "+-------------------+----+---+----+-----+----+-------+\n",
      "|2018-11-28 15:56:53|  15| 28|  48|   11|2018|      4|\n",
      "|2018-11-05 07:43:22|   7|  5|  45|   11|2018|      2|\n",
      "|2018-11-05 08:53:09|   8|  5|  45|   11|2018|      2|\n",
      "|2018-11-12 20:49:34|  20| 12|  46|   11|2018|      2|\n",
      "|2018-11-26 19:53:03|  19| 26|  48|   11|2018|      2|\n",
      "|2018-11-23 07:29:23|   7| 23|  47|   11|2018|      6|\n",
      "|2018-11-23 08:05:27|   8| 23|  47|   11|2018|      6|\n",
      "|2018-11-23 08:44:59|   8| 23|  47|   11|2018|      6|\n",
      "|2018-11-23 13:25:15|  13| 23|  47|   11|2018|      6|\n",
      "|2018-11-18 11:29:36|  11| 18|  46|   11|2018|      1|\n",
      "+-------------------+----+---+----+-----+----+-------+\n",
      "only showing top 10 rows"
     ]
    }
   ],
   "source": [
    "time_df_final.show(10)"
   ]
  },
  {
   "cell_type": "code",
   "execution_count": 42,
   "id": "72e6d139-57de-40a3-8ec7-8bebd6427b42",
   "metadata": {
    "execution": {
     "iopub.execute_input": "2022-03-20T21:25:58.290540Z",
     "iopub.status.busy": "2022-03-20T21:25:58.289772Z",
     "iopub.status.idle": "2022-03-20T21:26:04.896124Z",
     "shell.execute_reply": "2022-03-20T21:26:04.895198Z",
     "shell.execute_reply.started": "2022-03-20T21:25:58.290498Z"
    },
    "tags": []
   },
   "outputs": [
    {
     "data": {
      "application/vnd.jupyter.widget-view+json": {
       "model_id": "2f2edcaff30a478abed1ef2beb663cf5",
       "version_major": 2,
       "version_minor": 0
      },
      "text/plain": [
       "VBox()"
      ]
     },
     "metadata": {},
     "output_type": "display_data"
    },
    {
     "data": {
      "application/vnd.jupyter.widget-view+json": {
       "model_id": "",
       "version_major": 2,
       "version_minor": 0
      },
      "text/plain": [
       "FloatProgress(value=0.0, bar_style='info', description='Progress:', layout=Layout(height='25px', width='50%'),…"
      ]
     },
     "metadata": {},
     "output_type": "display_data"
    }
   ],
   "source": [
    "(\n",
    "    time_df_final\n",
    "    .write.format(\"parquet\")\n",
    "    .partitionBy('year', 'month')\n",
    "    .mode('overwrite')\n",
    "    .save('s3://datalakepractice032022/time')\n",
    ")"
   ]
  }
 ],
 "metadata": {
  "kernelspec": {
   "display_name": "PySpark",
   "language": "",
   "name": "pysparkkernel"
  },
  "language_info": {
   "codemirror_mode": {
    "name": "python",
    "version": 2
   },
   "mimetype": "text/x-python",
   "name": "pyspark",
   "pygments_lexer": "python2"
  }
 },
 "nbformat": 4,
 "nbformat_minor": 5
}
